{
  "nbformat": 4,
  "nbformat_minor": 0,
  "metadata": {
    "kernelspec": {
      "display_name": "Python 3",
      "language": "python",
      "name": "python3"
    },
    "language_info": {
      "codemirror_mode": {
        "name": "ipython",
        "version": 3
      },
      "file_extension": ".py",
      "mimetype": "text/x-python",
      "name": "python",
      "nbconvert_exporter": "python",
      "pygments_lexer": "ipython3",
      "version": "3.6.2"
    },
    "colab": {
      "name": "Interactive ML-1.ipynb",
      "provenance": []
    },
    "widgets": {
      "application/vnd.jupyter.widget-state+json": {
        "eecb756a485c44cf9eed78af1ba30eff": {
          "model_module": "@jupyter-widgets/controls",
          "model_name": "VBoxModel",
          "state": {
            "_view_name": "VBoxView",
            "_dom_classes": [
              "widget-interact"
            ],
            "_model_name": "VBoxModel",
            "_view_module": "@jupyter-widgets/controls",
            "_model_module_version": "1.5.0",
            "_view_count": null,
            "_view_module_version": "1.5.0",
            "box_style": "",
            "layout": "IPY_MODEL_849f98e7c7c643c887105f3808cd9617",
            "_model_module": "@jupyter-widgets/controls",
            "children": [
              "IPY_MODEL_0b33f28e760a4b708c5e70e09e66e096",
              "IPY_MODEL_e8bcd812865f4593aca945c27641ffee",
              "IPY_MODEL_5600b9a566ef4e92b7f21c8fe3e3afab",
              "IPY_MODEL_288f07e59faa4e51b25db5a69d88ce8f",
              "IPY_MODEL_ad9aad16bbd34fbe988db34cbbffa8e9",
              "IPY_MODEL_93a1c78c7d7a46ceb65eb15a78a1d745",
              "IPY_MODEL_54160e1a028a4f23ac570a88acabe74a"
            ]
          }
        },
        "849f98e7c7c643c887105f3808cd9617": {
          "model_module": "@jupyter-widgets/base",
          "model_name": "LayoutModel",
          "state": {
            "_view_name": "LayoutView",
            "grid_template_rows": null,
            "right": null,
            "justify_content": null,
            "_view_module": "@jupyter-widgets/base",
            "overflow": null,
            "_model_module_version": "1.2.0",
            "_view_count": null,
            "flex_flow": null,
            "width": null,
            "min_width": null,
            "border": null,
            "align_items": null,
            "bottom": null,
            "_model_module": "@jupyter-widgets/base",
            "top": null,
            "grid_column": null,
            "overflow_y": null,
            "overflow_x": null,
            "grid_auto_flow": null,
            "grid_area": null,
            "grid_template_columns": null,
            "flex": null,
            "_model_name": "LayoutModel",
            "justify_items": null,
            "grid_row": null,
            "max_height": null,
            "align_content": null,
            "visibility": null,
            "align_self": null,
            "height": null,
            "min_height": null,
            "padding": null,
            "grid_auto_rows": null,
            "grid_gap": null,
            "max_width": null,
            "order": null,
            "_view_module_version": "1.2.0",
            "grid_template_areas": null,
            "object_position": null,
            "object_fit": null,
            "grid_auto_columns": null,
            "margin": null,
            "display": null,
            "left": null
          }
        },
        "0b33f28e760a4b708c5e70e09e66e096": {
          "model_module": "@jupyter-widgets/controls",
          "model_name": "DropdownModel",
          "state": {
            "_options_labels": [
              "Low (50 samples)",
              "High (200 samples)"
            ],
            "_view_name": "DropdownView",
            "style": "IPY_MODEL_346118f4b1924e28902595b3c0a7c352",
            "_dom_classes": [],
            "description": "N_samples",
            "_model_name": "DropdownModel",
            "index": 0,
            "_view_module": "@jupyter-widgets/controls",
            "_model_module_version": "1.5.0",
            "_view_count": null,
            "disabled": false,
            "_view_module_version": "1.5.0",
            "description_tooltip": null,
            "_model_module": "@jupyter-widgets/controls",
            "layout": "IPY_MODEL_7b53bd04c39144af8abed8576d6f8bef"
          }
        },
        "e8bcd812865f4593aca945c27641ffee": {
          "model_module": "@jupyter-widgets/controls",
          "model_name": "IntSliderModel",
          "state": {
            "_view_name": "IntSliderView",
            "style": "IPY_MODEL_0c000161109c4c47a3a9856534210639",
            "_dom_classes": [],
            "description": "x_min",
            "step": 1,
            "_model_name": "IntSliderModel",
            "orientation": "horizontal",
            "max": 0,
            "_view_module": "@jupyter-widgets/controls",
            "_model_module_version": "1.5.0",
            "value": -2,
            "_view_count": null,
            "disabled": false,
            "_view_module_version": "1.5.0",
            "min": -5,
            "continuous_update": true,
            "readout_format": "d",
            "description_tooltip": null,
            "readout": true,
            "_model_module": "@jupyter-widgets/controls",
            "layout": "IPY_MODEL_1aaef73f235a46178b2ae29bd91dae75"
          }
        },
        "5600b9a566ef4e92b7f21c8fe3e3afab": {
          "model_module": "@jupyter-widgets/controls",
          "model_name": "IntSliderModel",
          "state": {
            "_view_name": "IntSliderView",
            "style": "IPY_MODEL_dc682dfa84e64864ba1c5337d01783f6",
            "_dom_classes": [],
            "description": "x_max",
            "step": 1,
            "_model_name": "IntSliderModel",
            "orientation": "horizontal",
            "max": 5,
            "_view_module": "@jupyter-widgets/controls",
            "_model_module_version": "1.5.0",
            "value": 2,
            "_view_count": null,
            "disabled": false,
            "_view_module_version": "1.5.0",
            "min": 0,
            "continuous_update": true,
            "readout_format": "d",
            "description_tooltip": null,
            "readout": true,
            "_model_module": "@jupyter-widgets/controls",
            "layout": "IPY_MODEL_97c6e9eb57bc4a1ebffbc450ea875a1b"
          }
        },
        "288f07e59faa4e51b25db5a69d88ce8f": {
          "model_module": "@jupyter-widgets/controls",
          "model_name": "IntSliderModel",
          "state": {
            "_view_name": "IntSliderView",
            "style": "IPY_MODEL_855da8771d524c93b4c82786f815a972",
            "_dom_classes": [],
            "description": "noise_magnitude",
            "step": 1,
            "_model_name": "IntSliderModel",
            "orientation": "horizontal",
            "max": 5,
            "_view_module": "@jupyter-widgets/controls",
            "_model_module_version": "1.5.0",
            "value": 2,
            "_view_count": null,
            "disabled": false,
            "_view_module_version": "1.5.0",
            "min": 0,
            "continuous_update": true,
            "readout_format": "d",
            "description_tooltip": null,
            "readout": true,
            "_model_module": "@jupyter-widgets/controls",
            "layout": "IPY_MODEL_ca84a9eae8044b1980e6d377d6efe10b"
          }
        },
        "ad9aad16bbd34fbe988db34cbbffa8e9": {
          "model_module": "@jupyter-widgets/controls",
          "model_name": "FloatSliderModel",
          "state": {
            "_view_name": "FloatSliderView",
            "style": "IPY_MODEL_abf0aca4ad3a484aa51f648de4b16725",
            "_dom_classes": [],
            "description": "noise_sd",
            "step": 0.1,
            "_model_name": "FloatSliderModel",
            "orientation": "horizontal",
            "max": 1,
            "_view_module": "@jupyter-widgets/controls",
            "_model_module_version": "1.5.0",
            "value": 0.5,
            "_view_count": null,
            "disabled": false,
            "_view_module_version": "1.5.0",
            "min": 0.1,
            "continuous_update": true,
            "readout_format": ".2f",
            "description_tooltip": null,
            "readout": true,
            "_model_module": "@jupyter-widgets/controls",
            "layout": "IPY_MODEL_f77d4b33b747403d96641e9312339ee4"
          }
        },
        "93a1c78c7d7a46ceb65eb15a78a1d745": {
          "model_module": "@jupyter-widgets/controls",
          "model_name": "FloatSliderModel",
          "state": {
            "_view_name": "FloatSliderView",
            "style": "IPY_MODEL_0f387eec0b994b85beb6c09fb6fe720a",
            "_dom_classes": [],
            "description": "noise_mean",
            "step": 0.5,
            "_model_name": "FloatSliderModel",
            "orientation": "horizontal",
            "max": 2,
            "_view_module": "@jupyter-widgets/controls",
            "_model_module_version": "1.5.0",
            "value": -0.5,
            "_view_count": null,
            "disabled": false,
            "_view_module_version": "1.5.0",
            "min": -2,
            "continuous_update": true,
            "readout_format": ".2f",
            "description_tooltip": null,
            "readout": true,
            "_model_module": "@jupyter-widgets/controls",
            "layout": "IPY_MODEL_84de0b671d924a378e0e76386018cd56"
          }
        },
        "54160e1a028a4f23ac570a88acabe74a": {
          "model_module": "@jupyter-widgets/output",
          "model_name": "OutputModel",
          "state": {
            "_view_name": "OutputView",
            "msg_id": "",
            "_dom_classes": [],
            "_model_name": "OutputModel",
            "outputs": [
              {
                "output_type": "display_data",
                "metadata": {
                  "tags": [],
                  "needs_background": "light"
                },
                "image/png": "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\n",
                "text/plain": "<Figure size 576x360 with 1 Axes>"
              }
            ],
            "_view_module": "@jupyter-widgets/output",
            "_model_module_version": "1.0.0",
            "_view_count": null,
            "_view_module_version": "1.0.0",
            "layout": "IPY_MODEL_c66d50a9574a449f8520ecbffbcfff1f",
            "_model_module": "@jupyter-widgets/output"
          }
        },
        "346118f4b1924e28902595b3c0a7c352": {
          "model_module": "@jupyter-widgets/controls",
          "model_name": "DescriptionStyleModel",
          "state": {
            "_view_name": "StyleView",
            "_model_name": "DescriptionStyleModel",
            "description_width": "",
            "_view_module": "@jupyter-widgets/base",
            "_model_module_version": "1.5.0",
            "_view_count": null,
            "_view_module_version": "1.2.0",
            "_model_module": "@jupyter-widgets/controls"
          }
        },
        "7b53bd04c39144af8abed8576d6f8bef": {
          "model_module": "@jupyter-widgets/base",
          "model_name": "LayoutModel",
          "state": {
            "_view_name": "LayoutView",
            "grid_template_rows": null,
            "right": null,
            "justify_content": null,
            "_view_module": "@jupyter-widgets/base",
            "overflow": null,
            "_model_module_version": "1.2.0",
            "_view_count": null,
            "flex_flow": null,
            "width": null,
            "min_width": null,
            "border": null,
            "align_items": null,
            "bottom": null,
            "_model_module": "@jupyter-widgets/base",
            "top": null,
            "grid_column": null,
            "overflow_y": null,
            "overflow_x": null,
            "grid_auto_flow": null,
            "grid_area": null,
            "grid_template_columns": null,
            "flex": null,
            "_model_name": "LayoutModel",
            "justify_items": null,
            "grid_row": null,
            "max_height": null,
            "align_content": null,
            "visibility": null,
            "align_self": null,
            "height": null,
            "min_height": null,
            "padding": null,
            "grid_auto_rows": null,
            "grid_gap": null,
            "max_width": null,
            "order": null,
            "_view_module_version": "1.2.0",
            "grid_template_areas": null,
            "object_position": null,
            "object_fit": null,
            "grid_auto_columns": null,
            "margin": null,
            "display": null,
            "left": null
          }
        },
        "0c000161109c4c47a3a9856534210639": {
          "model_module": "@jupyter-widgets/controls",
          "model_name": "SliderStyleModel",
          "state": {
            "_view_name": "StyleView",
            "handle_color": null,
            "_model_name": "SliderStyleModel",
            "description_width": "",
            "_view_module": "@jupyter-widgets/base",
            "_model_module_version": "1.5.0",
            "_view_count": null,
            "_view_module_version": "1.2.0",
            "_model_module": "@jupyter-widgets/controls"
          }
        },
        "1aaef73f235a46178b2ae29bd91dae75": {
          "model_module": "@jupyter-widgets/base",
          "model_name": "LayoutModel",
          "state": {
            "_view_name": "LayoutView",
            "grid_template_rows": null,
            "right": null,
            "justify_content": null,
            "_view_module": "@jupyter-widgets/base",
            "overflow": null,
            "_model_module_version": "1.2.0",
            "_view_count": null,
            "flex_flow": null,
            "width": null,
            "min_width": null,
            "border": null,
            "align_items": null,
            "bottom": null,
            "_model_module": "@jupyter-widgets/base",
            "top": null,
            "grid_column": null,
            "overflow_y": null,
            "overflow_x": null,
            "grid_auto_flow": null,
            "grid_area": null,
            "grid_template_columns": null,
            "flex": null,
            "_model_name": "LayoutModel",
            "justify_items": null,
            "grid_row": null,
            "max_height": null,
            "align_content": null,
            "visibility": null,
            "align_self": null,
            "height": null,
            "min_height": null,
            "padding": null,
            "grid_auto_rows": null,
            "grid_gap": null,
            "max_width": null,
            "order": null,
            "_view_module_version": "1.2.0",
            "grid_template_areas": null,
            "object_position": null,
            "object_fit": null,
            "grid_auto_columns": null,
            "margin": null,
            "display": null,
            "left": null
          }
        },
        "dc682dfa84e64864ba1c5337d01783f6": {
          "model_module": "@jupyter-widgets/controls",
          "model_name": "SliderStyleModel",
          "state": {
            "_view_name": "StyleView",
            "handle_color": null,
            "_model_name": "SliderStyleModel",
            "description_width": "",
            "_view_module": "@jupyter-widgets/base",
            "_model_module_version": "1.5.0",
            "_view_count": null,
            "_view_module_version": "1.2.0",
            "_model_module": "@jupyter-widgets/controls"
          }
        },
        "97c6e9eb57bc4a1ebffbc450ea875a1b": {
          "model_module": "@jupyter-widgets/base",
          "model_name": "LayoutModel",
          "state": {
            "_view_name": "LayoutView",
            "grid_template_rows": null,
            "right": null,
            "justify_content": null,
            "_view_module": "@jupyter-widgets/base",
            "overflow": null,
            "_model_module_version": "1.2.0",
            "_view_count": null,
            "flex_flow": null,
            "width": null,
            "min_width": null,
            "border": null,
            "align_items": null,
            "bottom": null,
            "_model_module": "@jupyter-widgets/base",
            "top": null,
            "grid_column": null,
            "overflow_y": null,
            "overflow_x": null,
            "grid_auto_flow": null,
            "grid_area": null,
            "grid_template_columns": null,
            "flex": null,
            "_model_name": "LayoutModel",
            "justify_items": null,
            "grid_row": null,
            "max_height": null,
            "align_content": null,
            "visibility": null,
            "align_self": null,
            "height": null,
            "min_height": null,
            "padding": null,
            "grid_auto_rows": null,
            "grid_gap": null,
            "max_width": null,
            "order": null,
            "_view_module_version": "1.2.0",
            "grid_template_areas": null,
            "object_position": null,
            "object_fit": null,
            "grid_auto_columns": null,
            "margin": null,
            "display": null,
            "left": null
          }
        },
        "855da8771d524c93b4c82786f815a972": {
          "model_module": "@jupyter-widgets/controls",
          "model_name": "SliderStyleModel",
          "state": {
            "_view_name": "StyleView",
            "handle_color": null,
            "_model_name": "SliderStyleModel",
            "description_width": "",
            "_view_module": "@jupyter-widgets/base",
            "_model_module_version": "1.5.0",
            "_view_count": null,
            "_view_module_version": "1.2.0",
            "_model_module": "@jupyter-widgets/controls"
          }
        },
        "ca84a9eae8044b1980e6d377d6efe10b": {
          "model_module": "@jupyter-widgets/base",
          "model_name": "LayoutModel",
          "state": {
            "_view_name": "LayoutView",
            "grid_template_rows": null,
            "right": null,
            "justify_content": null,
            "_view_module": "@jupyter-widgets/base",
            "overflow": null,
            "_model_module_version": "1.2.0",
            "_view_count": null,
            "flex_flow": null,
            "width": null,
            "min_width": null,
            "border": null,
            "align_items": null,
            "bottom": null,
            "_model_module": "@jupyter-widgets/base",
            "top": null,
            "grid_column": null,
            "overflow_y": null,
            "overflow_x": null,
            "grid_auto_flow": null,
            "grid_area": null,
            "grid_template_columns": null,
            "flex": null,
            "_model_name": "LayoutModel",
            "justify_items": null,
            "grid_row": null,
            "max_height": null,
            "align_content": null,
            "visibility": null,
            "align_self": null,
            "height": null,
            "min_height": null,
            "padding": null,
            "grid_auto_rows": null,
            "grid_gap": null,
            "max_width": null,
            "order": null,
            "_view_module_version": "1.2.0",
            "grid_template_areas": null,
            "object_position": null,
            "object_fit": null,
            "grid_auto_columns": null,
            "margin": null,
            "display": null,
            "left": null
          }
        },
        "abf0aca4ad3a484aa51f648de4b16725": {
          "model_module": "@jupyter-widgets/controls",
          "model_name": "SliderStyleModel",
          "state": {
            "_view_name": "StyleView",
            "handle_color": null,
            "_model_name": "SliderStyleModel",
            "description_width": "",
            "_view_module": "@jupyter-widgets/base",
            "_model_module_version": "1.5.0",
            "_view_count": null,
            "_view_module_version": "1.2.0",
            "_model_module": "@jupyter-widgets/controls"
          }
        },
        "f77d4b33b747403d96641e9312339ee4": {
          "model_module": "@jupyter-widgets/base",
          "model_name": "LayoutModel",
          "state": {
            "_view_name": "LayoutView",
            "grid_template_rows": null,
            "right": null,
            "justify_content": null,
            "_view_module": "@jupyter-widgets/base",
            "overflow": null,
            "_model_module_version": "1.2.0",
            "_view_count": null,
            "flex_flow": null,
            "width": null,
            "min_width": null,
            "border": null,
            "align_items": null,
            "bottom": null,
            "_model_module": "@jupyter-widgets/base",
            "top": null,
            "grid_column": null,
            "overflow_y": null,
            "overflow_x": null,
            "grid_auto_flow": null,
            "grid_area": null,
            "grid_template_columns": null,
            "flex": null,
            "_model_name": "LayoutModel",
            "justify_items": null,
            "grid_row": null,
            "max_height": null,
            "align_content": null,
            "visibility": null,
            "align_self": null,
            "height": null,
            "min_height": null,
            "padding": null,
            "grid_auto_rows": null,
            "grid_gap": null,
            "max_width": null,
            "order": null,
            "_view_module_version": "1.2.0",
            "grid_template_areas": null,
            "object_position": null,
            "object_fit": null,
            "grid_auto_columns": null,
            "margin": null,
            "display": null,
            "left": null
          }
        },
        "0f387eec0b994b85beb6c09fb6fe720a": {
          "model_module": "@jupyter-widgets/controls",
          "model_name": "SliderStyleModel",
          "state": {
            "_view_name": "StyleView",
            "handle_color": null,
            "_model_name": "SliderStyleModel",
            "description_width": "",
            "_view_module": "@jupyter-widgets/base",
            "_model_module_version": "1.5.0",
            "_view_count": null,
            "_view_module_version": "1.2.0",
            "_model_module": "@jupyter-widgets/controls"
          }
        },
        "84de0b671d924a378e0e76386018cd56": {
          "model_module": "@jupyter-widgets/base",
          "model_name": "LayoutModel",
          "state": {
            "_view_name": "LayoutView",
            "grid_template_rows": null,
            "right": null,
            "justify_content": null,
            "_view_module": "@jupyter-widgets/base",
            "overflow": null,
            "_model_module_version": "1.2.0",
            "_view_count": null,
            "flex_flow": null,
            "width": null,
            "min_width": null,
            "border": null,
            "align_items": null,
            "bottom": null,
            "_model_module": "@jupyter-widgets/base",
            "top": null,
            "grid_column": null,
            "overflow_y": null,
            "overflow_x": null,
            "grid_auto_flow": null,
            "grid_area": null,
            "grid_template_columns": null,
            "flex": null,
            "_model_name": "LayoutModel",
            "justify_items": null,
            "grid_row": null,
            "max_height": null,
            "align_content": null,
            "visibility": null,
            "align_self": null,
            "height": null,
            "min_height": null,
            "padding": null,
            "grid_auto_rows": null,
            "grid_gap": null,
            "max_width": null,
            "order": null,
            "_view_module_version": "1.2.0",
            "grid_template_areas": null,
            "object_position": null,
            "object_fit": null,
            "grid_auto_columns": null,
            "margin": null,
            "display": null,
            "left": null
          }
        },
        "c66d50a9574a449f8520ecbffbcfff1f": {
          "model_module": "@jupyter-widgets/base",
          "model_name": "LayoutModel",
          "state": {
            "_view_name": "LayoutView",
            "grid_template_rows": null,
            "right": null,
            "justify_content": null,
            "_view_module": "@jupyter-widgets/base",
            "overflow": null,
            "_model_module_version": "1.2.0",
            "_view_count": null,
            "flex_flow": null,
            "width": null,
            "min_width": null,
            "border": null,
            "align_items": null,
            "bottom": null,
            "_model_module": "@jupyter-widgets/base",
            "top": null,
            "grid_column": null,
            "overflow_y": null,
            "overflow_x": null,
            "grid_auto_flow": null,
            "grid_area": null,
            "grid_template_columns": null,
            "flex": null,
            "_model_name": "LayoutModel",
            "justify_items": null,
            "grid_row": null,
            "max_height": null,
            "align_content": null,
            "visibility": null,
            "align_self": null,
            "height": null,
            "min_height": null,
            "padding": null,
            "grid_auto_rows": null,
            "grid_gap": null,
            "max_width": null,
            "order": null,
            "_view_module_version": "1.2.0",
            "grid_template_areas": null,
            "object_position": null,
            "object_fit": null,
            "grid_auto_columns": null,
            "margin": null,
            "display": null,
            "left": null
          }
        },
        "120e871dacd04d59b4f4aff67a08a1c8": {
          "model_module": "@jupyter-widgets/controls",
          "model_name": "VBoxModel",
          "state": {
            "_view_name": "VBoxView",
            "_dom_classes": [
              "widget-interact"
            ],
            "_model_name": "VBoxModel",
            "_view_module": "@jupyter-widgets/controls",
            "_model_module_version": "1.5.0",
            "_view_count": null,
            "_view_module_version": "1.5.0",
            "box_style": "",
            "layout": "IPY_MODEL_d7dcf89751b44e1d9a9ac72bedc26d4b",
            "_model_module": "@jupyter-widgets/controls",
            "children": [
              "IPY_MODEL_f2b263c8ebc64d0a98a2356a7c1a764a",
              "IPY_MODEL_d2246201a93443928d7353ed77580a7a",
              "IPY_MODEL_7ecd698e30b64be2b48ae081801f6276",
              "IPY_MODEL_0a880abff75049debb571d318c977011"
            ]
          }
        },
        "d7dcf89751b44e1d9a9ac72bedc26d4b": {
          "model_module": "@jupyter-widgets/base",
          "model_name": "LayoutModel",
          "state": {
            "_view_name": "LayoutView",
            "grid_template_rows": null,
            "right": null,
            "justify_content": null,
            "_view_module": "@jupyter-widgets/base",
            "overflow": null,
            "_model_module_version": "1.2.0",
            "_view_count": null,
            "flex_flow": null,
            "width": null,
            "min_width": null,
            "border": null,
            "align_items": null,
            "bottom": null,
            "_model_module": "@jupyter-widgets/base",
            "top": null,
            "grid_column": null,
            "overflow_y": null,
            "overflow_x": null,
            "grid_auto_flow": null,
            "grid_area": null,
            "grid_template_columns": null,
            "flex": null,
            "_model_name": "LayoutModel",
            "justify_items": null,
            "grid_row": null,
            "max_height": null,
            "align_content": null,
            "visibility": null,
            "align_self": null,
            "height": null,
            "min_height": null,
            "padding": null,
            "grid_auto_rows": null,
            "grid_gap": null,
            "max_width": null,
            "order": null,
            "_view_module_version": "1.2.0",
            "grid_template_areas": null,
            "object_position": null,
            "object_fit": null,
            "grid_auto_columns": null,
            "margin": null,
            "display": null,
            "left": null
          }
        },
        "f2b263c8ebc64d0a98a2356a7c1a764a": {
          "model_module": "@jupyter-widgets/controls",
          "model_name": "RadioButtonsModel",
          "state": {
            "_options_labels": [
              "Linear regression",
              "LASSO with CV",
              "Ridge with CV"
            ],
            "_view_name": "RadioButtonsView",
            "style": "IPY_MODEL_2466216cf08347ada9bb0398d34e9d95",
            "_dom_classes": [],
            "description": "Choose Model",
            "_model_name": "RadioButtonsModel",
            "index": 0,
            "_view_module": "@jupyter-widgets/controls",
            "_model_module_version": "1.5.0",
            "_view_count": null,
            "disabled": false,
            "_view_module_version": "1.5.0",
            "description_tooltip": null,
            "_model_module": "@jupyter-widgets/controls",
            "layout": "IPY_MODEL_435a662cd86b4d93a469e855f951dd12"
          }
        },
        "d2246201a93443928d7353ed77580a7a": {
          "model_module": "@jupyter-widgets/controls",
          "model_name": "DropdownModel",
          "state": {
            "_options_labels": [
              "10% of data",
              "20% of data",
              "30% of data",
              "40% of data",
              "50% of data"
            ],
            "_view_name": "DropdownView",
            "style": "IPY_MODEL_da581a68a60842f6accddceb858f796f",
            "_dom_classes": [],
            "description": "Test set size",
            "_model_name": "DropdownModel",
            "index": 0,
            "_view_module": "@jupyter-widgets/controls",
            "_model_module_version": "1.5.0",
            "_view_count": null,
            "disabled": false,
            "_view_module_version": "1.5.0",
            "description_tooltip": null,
            "_model_module": "@jupyter-widgets/controls",
            "layout": "IPY_MODEL_460ca4c08db44ff79dc37236cba85c7b"
          }
        },
        "7ecd698e30b64be2b48ae081801f6276": {
          "model_module": "@jupyter-widgets/controls",
          "model_name": "IntSliderModel",
          "state": {
            "_view_name": "IntSliderView",
            "style": "IPY_MODEL_0fbfecde7e554dbc9269fee652406677",
            "_dom_classes": [],
            "description": "Polynomial degree",
            "step": 1,
            "_model_name": "IntSliderModel",
            "orientation": "horizontal",
            "max": 10,
            "_view_module": "@jupyter-widgets/controls",
            "_model_module_version": "1.5.0",
            "value": 1,
            "_view_count": null,
            "disabled": false,
            "_view_module_version": "1.5.0",
            "min": 1,
            "continuous_update": false,
            "readout_format": "d",
            "description_tooltip": null,
            "readout": true,
            "_model_module": "@jupyter-widgets/controls",
            "layout": "IPY_MODEL_7d8ed78a73e540fc9bdc39cf6f276c16"
          }
        },
        "0a880abff75049debb571d318c977011": {
          "model_module": "@jupyter-widgets/output",
          "model_name": "OutputModel",
          "state": {
            "_view_name": "OutputView",
            "msg_id": "",
            "_dom_classes": [],
            "_model_name": "OutputModel",
            "outputs": [
              {
                "output_type": "stream",
                "metadata": {
                  "tags": []
                },
                "text": "Test score: 0.9387748605029008, Training score: 0.9719979972201224\nRMSE Test: 1.3835485985653921, RMSE train: 2.6012944620108045\n",
                "stream": "stdout"
              },
              {
                "output_type": "display_data",
                "metadata": {
                  "tags": [],
                  "needs_background": "light"
                },
                "image/png": "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\n",
                "text/plain": "<Figure size 864x288 with 2 Axes>"
              }
            ],
            "_view_module": "@jupyter-widgets/output",
            "_model_module_version": "1.0.0",
            "_view_count": null,
            "_view_module_version": "1.0.0",
            "layout": "IPY_MODEL_de909ae95cb944078278d6103ba8465d",
            "_model_module": "@jupyter-widgets/output"
          }
        },
        "2466216cf08347ada9bb0398d34e9d95": {
          "model_module": "@jupyter-widgets/controls",
          "model_name": "DescriptionStyleModel",
          "state": {
            "_view_name": "StyleView",
            "_model_name": "DescriptionStyleModel",
            "description_width": "initial",
            "_view_module": "@jupyter-widgets/base",
            "_model_module_version": "1.5.0",
            "_view_count": null,
            "_view_module_version": "1.2.0",
            "_model_module": "@jupyter-widgets/controls"
          }
        },
        "435a662cd86b4d93a469e855f951dd12": {
          "model_module": "@jupyter-widgets/base",
          "model_name": "LayoutModel",
          "state": {
            "_view_name": "LayoutView",
            "grid_template_rows": null,
            "right": null,
            "justify_content": null,
            "_view_module": "@jupyter-widgets/base",
            "overflow": null,
            "_model_module_version": "1.2.0",
            "_view_count": null,
            "flex_flow": null,
            "width": "250px",
            "min_width": null,
            "border": null,
            "align_items": null,
            "bottom": null,
            "_model_module": "@jupyter-widgets/base",
            "top": null,
            "grid_column": null,
            "overflow_y": null,
            "overflow_x": null,
            "grid_auto_flow": null,
            "grid_area": null,
            "grid_template_columns": null,
            "flex": null,
            "_model_name": "LayoutModel",
            "justify_items": null,
            "grid_row": null,
            "max_height": null,
            "align_content": null,
            "visibility": null,
            "align_self": null,
            "height": null,
            "min_height": null,
            "padding": null,
            "grid_auto_rows": null,
            "grid_gap": null,
            "max_width": null,
            "order": null,
            "_view_module_version": "1.2.0",
            "grid_template_areas": null,
            "object_position": null,
            "object_fit": null,
            "grid_auto_columns": null,
            "margin": null,
            "display": null,
            "left": null
          }
        },
        "da581a68a60842f6accddceb858f796f": {
          "model_module": "@jupyter-widgets/controls",
          "model_name": "DescriptionStyleModel",
          "state": {
            "_view_name": "StyleView",
            "_model_name": "DescriptionStyleModel",
            "description_width": "initial",
            "_view_module": "@jupyter-widgets/base",
            "_model_module_version": "1.5.0",
            "_view_count": null,
            "_view_module_version": "1.2.0",
            "_model_module": "@jupyter-widgets/controls"
          }
        },
        "460ca4c08db44ff79dc37236cba85c7b": {
          "model_module": "@jupyter-widgets/base",
          "model_name": "LayoutModel",
          "state": {
            "_view_name": "LayoutView",
            "grid_template_rows": null,
            "right": null,
            "justify_content": null,
            "_view_module": "@jupyter-widgets/base",
            "overflow": null,
            "_model_module_version": "1.2.0",
            "_view_count": null,
            "flex_flow": null,
            "width": null,
            "min_width": null,
            "border": null,
            "align_items": null,
            "bottom": null,
            "_model_module": "@jupyter-widgets/base",
            "top": null,
            "grid_column": null,
            "overflow_y": null,
            "overflow_x": null,
            "grid_auto_flow": null,
            "grid_area": null,
            "grid_template_columns": null,
            "flex": null,
            "_model_name": "LayoutModel",
            "justify_items": null,
            "grid_row": null,
            "max_height": null,
            "align_content": null,
            "visibility": null,
            "align_self": null,
            "height": null,
            "min_height": null,
            "padding": null,
            "grid_auto_rows": null,
            "grid_gap": null,
            "max_width": null,
            "order": null,
            "_view_module_version": "1.2.0",
            "grid_template_areas": null,
            "object_position": null,
            "object_fit": null,
            "grid_auto_columns": null,
            "margin": null,
            "display": null,
            "left": null
          }
        },
        "0fbfecde7e554dbc9269fee652406677": {
          "model_module": "@jupyter-widgets/controls",
          "model_name": "SliderStyleModel",
          "state": {
            "_view_name": "StyleView",
            "handle_color": null,
            "_model_name": "SliderStyleModel",
            "description_width": "",
            "_view_module": "@jupyter-widgets/base",
            "_model_module_version": "1.5.0",
            "_view_count": null,
            "_view_module_version": "1.2.0",
            "_model_module": "@jupyter-widgets/controls"
          }
        },
        "7d8ed78a73e540fc9bdc39cf6f276c16": {
          "model_module": "@jupyter-widgets/base",
          "model_name": "LayoutModel",
          "state": {
            "_view_name": "LayoutView",
            "grid_template_rows": null,
            "right": null,
            "justify_content": null,
            "_view_module": "@jupyter-widgets/base",
            "overflow": null,
            "_model_module_version": "1.2.0",
            "_view_count": null,
            "flex_flow": null,
            "width": null,
            "min_width": null,
            "border": null,
            "align_items": null,
            "bottom": null,
            "_model_module": "@jupyter-widgets/base",
            "top": null,
            "grid_column": null,
            "overflow_y": null,
            "overflow_x": null,
            "grid_auto_flow": null,
            "grid_area": null,
            "grid_template_columns": null,
            "flex": null,
            "_model_name": "LayoutModel",
            "justify_items": null,
            "grid_row": null,
            "max_height": null,
            "align_content": null,
            "visibility": null,
            "align_self": null,
            "height": null,
            "min_height": null,
            "padding": null,
            "grid_auto_rows": null,
            "grid_gap": null,
            "max_width": null,
            "order": null,
            "_view_module_version": "1.2.0",
            "grid_template_areas": null,
            "object_position": null,
            "object_fit": null,
            "grid_auto_columns": null,
            "margin": null,
            "display": null,
            "left": null
          }
        },
        "de909ae95cb944078278d6103ba8465d": {
          "model_module": "@jupyter-widgets/base",
          "model_name": "LayoutModel",
          "state": {
            "_view_name": "LayoutView",
            "grid_template_rows": null,
            "right": null,
            "justify_content": null,
            "_view_module": "@jupyter-widgets/base",
            "overflow": null,
            "_model_module_version": "1.2.0",
            "_view_count": null,
            "flex_flow": null,
            "width": null,
            "min_width": null,
            "border": null,
            "align_items": null,
            "bottom": null,
            "_model_module": "@jupyter-widgets/base",
            "top": null,
            "grid_column": null,
            "overflow_y": null,
            "overflow_x": null,
            "grid_auto_flow": null,
            "grid_area": null,
            "grid_template_columns": null,
            "flex": null,
            "_model_name": "LayoutModel",
            "justify_items": null,
            "grid_row": null,
            "max_height": null,
            "align_content": null,
            "visibility": null,
            "align_self": null,
            "height": "350px",
            "min_height": null,
            "padding": null,
            "grid_auto_rows": null,
            "grid_gap": null,
            "max_width": null,
            "order": null,
            "_view_module_version": "1.2.0",
            "grid_template_areas": null,
            "object_position": null,
            "object_fit": null,
            "grid_auto_columns": null,
            "margin": null,
            "display": null,
            "left": null
          }
        }
      }
    }
  },
  "cells": [
    {
      "cell_type": "markdown",
      "metadata": {
        "id": "_2oSvuY3jHDc"
      },
      "source": [
        "# Institut des Algorithmes du Sénégal"
      ]
    },
    {
      "cell_type": "markdown",
      "metadata": {
        "id": "rT3UufotjEZ5"
      },
      "source": [
        "# Interactive Machine Learning Demo"
      ]
    },
    {
      "cell_type": "code",
      "metadata": {
        "collapsed": true,
        "id": "_FD7FdAbjEZ_"
      },
      "source": [
        "from ipywidgets import interact, interactive, IntSlider, Layout, interact_manual\n",
        "import ipywidgets as widgets\n",
        "from IPython.display import display\n",
        "\n",
        "import numpy as np\n",
        "import matplotlib.pyplot as plt\n",
        "#%matplotlib inline\n",
        "\n",
        "import pandas as pd"
      ],
      "execution_count": 2,
      "outputs": []
    },
    {
      "cell_type": "markdown",
      "metadata": {
        "id": "uhiIp89ZjEaC"
      },
      "source": [
        "## Linear Regression and Regularization"
      ]
    },
    {
      "cell_type": "markdown",
      "metadata": {
        "id": "_coHBJyFjEaE"
      },
      "source": [
        "### Variables"
      ]
    },
    {
      "cell_type": "code",
      "metadata": {
        "collapsed": true,
        "id": "ZiaF_QgOjEaF"
      },
      "source": [
        "N_samples = 25\n",
        "x_min = -5\n",
        "x_max = 5\n",
        "x1= np.linspace(x_min,x_max,N_samples*5)\n",
        "x= np.random.choice(x1,size=N_samples)\n",
        "noise_std=1\n",
        "noise_mean=0\n",
        "noise_magnitude = 2"
      ],
      "execution_count": 3,
      "outputs": []
    },
    {
      "cell_type": "markdown",
      "metadata": {
        "id": "dsZmgM-QjEaF"
      },
      "source": [
        "### Function definitions (ideal fitting function and actual data generating function with noise)"
      ]
    },
    {
      "cell_type": "code",
      "metadata": {
        "collapsed": true,
        "id": "0PpI7C2gjEaH"
      },
      "source": [
        "def func_gen(N_samples,x_min,x_max,noise_magnitude,noise_sd,noise_mean):\n",
        "    x1= np.linspace(x_min,x_max,N_samples*5)\n",
        "    x= np.random.choice(x1,size=N_samples)\n",
        "    y=2*x-0.6*x**2+0.2*x**3+18*np.sin(x)\n",
        "    y1=2*x1-0.6*x1**2+0.2*x1**3+18*np.sin(x1)\n",
        "    y= y+noise_magnitude*np.random.normal(loc=noise_mean,scale=noise_sd,size=N_samples)\n",
        "    plt.figure(figsize=(8,5))\n",
        "    plt.plot(x1,y1,c='k',lw=2)\n",
        "    plt.scatter(x,y,edgecolors='k',c='yellow',s=60)\n",
        "    plt.grid(True)\n",
        "    plt.show()\n",
        "    return (x,y,x1,y1)"
      ],
      "execution_count": 4,
      "outputs": []
    },
    {
      "cell_type": "markdown",
      "metadata": {
        "id": "nEMkX-sbjEaH"
      },
      "source": [
        "### Call the 'interactive' widget with the data generating function, which also plots the data real-time"
      ]
    },
    {
      "cell_type": "code",
      "metadata": {
        "scrolled": false,
        "colab": {
          "base_uri": "https://localhost:8080/",
          "height": 512,
          "referenced_widgets": [
            "eecb756a485c44cf9eed78af1ba30eff",
            "849f98e7c7c643c887105f3808cd9617",
            "0b33f28e760a4b708c5e70e09e66e096",
            "e8bcd812865f4593aca945c27641ffee",
            "5600b9a566ef4e92b7f21c8fe3e3afab",
            "288f07e59faa4e51b25db5a69d88ce8f",
            "ad9aad16bbd34fbe988db34cbbffa8e9",
            "93a1c78c7d7a46ceb65eb15a78a1d745",
            "54160e1a028a4f23ac570a88acabe74a",
            "346118f4b1924e28902595b3c0a7c352",
            "7b53bd04c39144af8abed8576d6f8bef",
            "0c000161109c4c47a3a9856534210639",
            "1aaef73f235a46178b2ae29bd91dae75",
            "dc682dfa84e64864ba1c5337d01783f6",
            "97c6e9eb57bc4a1ebffbc450ea875a1b",
            "855da8771d524c93b4c82786f815a972",
            "ca84a9eae8044b1980e6d377d6efe10b",
            "abf0aca4ad3a484aa51f648de4b16725",
            "f77d4b33b747403d96641e9312339ee4",
            "0f387eec0b994b85beb6c09fb6fe720a",
            "84de0b671d924a378e0e76386018cd56",
            "c66d50a9574a449f8520ecbffbcfff1f"
          ]
        },
        "id": "ywqWsVlojEaJ",
        "outputId": "fa76b2bf-fa83-4a83-a109-dd410ed3e774"
      },
      "source": [
        "p=interactive(func_gen,N_samples={'Low (50 samples)':50,'High (200 samples)':200},x_min=(-5,0,1), x_max=(0,5,1),\n",
        "              noise_magnitude=(0,5,1),noise_sd=(0.1,1,0.1),noise_mean=(-2,2,0.5))\n",
        "display(p)"
      ],
      "execution_count": 5,
      "outputs": [
        {
          "output_type": "display_data",
          "data": {
            "application/vnd.jupyter.widget-view+json": {
              "model_id": "eecb756a485c44cf9eed78af1ba30eff",
              "version_minor": 0,
              "version_major": 2
            },
            "text/plain": [
              "interactive(children=(Dropdown(description='N_samples', options={'Low (50 samples)': 50, 'High (200 samples)':…"
            ]
          },
          "metadata": {
            "tags": []
          }
        }
      ]
    },
    {
      "cell_type": "markdown",
      "metadata": {
        "id": "c2hBTmvHjEaN"
      },
      "source": [
        "### Extract the data"
      ]
    },
    {
      "cell_type": "code",
      "metadata": {
        "collapsed": true,
        "id": "tlAH_vY2jEaO"
      },
      "source": [
        "x,y,x1,y1 = p.result"
      ],
      "execution_count": 6,
      "outputs": []
    },
    {
      "cell_type": "markdown",
      "metadata": {
        "id": "48X0Owm2jEaP"
      },
      "source": [
        "### Load scikit-learn libraries"
      ]
    },
    {
      "cell_type": "code",
      "metadata": {
        "collapsed": true,
        "id": "Hb0zw9G2jEaQ"
      },
      "source": [
        "from sklearn.model_selection import train_test_split\n",
        "from sklearn.preprocessing import PolynomialFeatures\n",
        "from sklearn.linear_model import LassoCV\n",
        "from sklearn.linear_model import RidgeCV\n",
        "from sklearn.linear_model import LinearRegression\n",
        "from sklearn.pipeline import make_pipeline"
      ],
      "execution_count": 7,
      "outputs": []
    },
    {
      "cell_type": "markdown",
      "metadata": {
        "id": "wBD5oMeBjEaR"
      },
      "source": [
        "### Machine learning (regression) model encapsulated within a function "
      ]
    },
    {
      "cell_type": "code",
      "metadata": {
        "collapsed": true,
        "id": "XDAlyiizjEaS"
      },
      "source": [
        "lasso_eps = 0.01\n",
        "lasso_nalpha=20\n",
        "lasso_iter=3000\n",
        "ridge_alphas = (0.001,0.01,0.1,1)\n",
        "\n",
        "def func_fit(model_type,test_size,degree):\n",
        "    X_train, X_test, y_train, y_test = train_test_split(x,y,test_size=test_size,random_state=55)\n",
        "    \n",
        "    t1=np.min(X_test)\n",
        "    t2=np.max(X_test)\n",
        "    t3=np.min(y_test)\n",
        "    t4=np.max(y_test)\n",
        "    \n",
        "    t5=np.min(X_train)\n",
        "    t6=np.max(X_train)\n",
        "    t7=np.min(y_train)\n",
        "    t8=np.max(y_train)\n",
        "    \n",
        "    posx_test=t1+(t2-t1)*0.7\n",
        "    posx_train=t5+(t6-t5)*0.7\n",
        "    posy_test=t3+(t4-t3)*0.2\n",
        "    posy_train=t7+(t8-t7)*0.2\n",
        "    \n",
        "    if (model_type=='Linear regression'):\n",
        "        model = make_pipeline(PolynomialFeatures(degree,interaction_only=False), \n",
        "                          LinearRegression(normalize=True))\n",
        "    if (model_type=='LASSO with CV'):    \n",
        "        model = make_pipeline(PolynomialFeatures(degree,interaction_only=False), \n",
        "                              LassoCV(eps=lasso_eps,n_alphas=lasso_nalpha,max_iter=lasso_iter,normalize=True,cv=5))\n",
        "        \n",
        "    if (model_type=='Ridge with CV'):    \n",
        "        model = make_pipeline(PolynomialFeatures(degree,interaction_only=False), \n",
        "                              RidgeCV(alphas=ridge_alphas,normalize=True,cv=5))\n",
        "    \n",
        "    X_train=X_train.reshape(-1,1)\n",
        "    X_test=X_test.reshape(-1,1)\n",
        "    \n",
        "    model.fit(X_train,y_train)\n",
        "    \n",
        "    train_pred = np.array(model.predict(X_train))\n",
        "    train_score = model.score(X_train,y_train)\n",
        "    \n",
        "    test_pred = np.array(model.predict(X_test))\n",
        "    test_score = model.score(X_test,y_test)\n",
        "    \n",
        "    RMSE_test=np.sqrt(np.mean(np.square(test_pred-y_test)))\n",
        "    RMSE_train=np.sqrt(np.mean(np.square(train_pred-y_train)))\n",
        "    \n",
        "    print(\"Test score: {}, Training score: {}\".format(test_score,train_score))\n",
        "    \n",
        "    print(\"RMSE Test: {}, RMSE train: {}\".format(RMSE_test,RMSE_train))\n",
        "    \n",
        "    plt.figure(figsize=(12,4))\n",
        "    \n",
        "    plt.subplot(1,2,1)\n",
        "    plt.title(\"IAS : Test set performance\\n\",fontsize=16)\n",
        "    plt.xlabel(\"X-test\",fontsize=13)\n",
        "    plt.ylabel(\"y-test\",fontsize=13)\n",
        "    plt.scatter(X_test,y_test,edgecolors='k',c='blue',s=60)\n",
        "    plt.scatter(X_test,test_pred,edgecolors='k',c='yellow',s=60)\n",
        "    plt.grid(True)\n",
        "    plt.legend(['Actual test values','Predicted values'])\n",
        "    plt.text(x=posx_test,y=posy_test,s='Test score: %.3f'%(test_score),fontsize=15)\n",
        "    \n",
        "    plt.subplot(1,2,2)\n",
        "    plt.title(\"IAS : Training set performance\\n\",fontsize=16)\n",
        "    plt.xlabel(\"X-train\",fontsize=13)\n",
        "    plt.ylabel(\"y-train\",fontsize=13)\n",
        "    plt.scatter(X_train,y_train,c='blue')\n",
        "    plt.scatter(X_train,train_pred,c='yellow')\n",
        "    plt.grid(True)\n",
        "    plt.legend(['Actual training values','Fitted values'])\n",
        "    plt.text(x=posx_train,y=posy_train,s='Training score: %.3f'%(train_score),fontsize=15)\n",
        "    \n",
        "    plt.show()\n",
        "       \n",
        "    return (train_score,test_score)    "
      ],
      "execution_count": 10,
      "outputs": []
    },
    {
      "cell_type": "markdown",
      "metadata": {
        "id": "tS4DWoZVjEaT"
      },
      "source": [
        "### Run the encapsulated ML function with ipywidget interactive"
      ]
    },
    {
      "cell_type": "code",
      "metadata": {
        "colab": {
          "base_uri": "https://localhost:8080/",
          "height": 511,
          "referenced_widgets": [
            "120e871dacd04d59b4f4aff67a08a1c8",
            "d7dcf89751b44e1d9a9ac72bedc26d4b",
            "f2b263c8ebc64d0a98a2356a7c1a764a",
            "d2246201a93443928d7353ed77580a7a",
            "7ecd698e30b64be2b48ae081801f6276",
            "0a880abff75049debb571d318c977011",
            "2466216cf08347ada9bb0398d34e9d95",
            "435a662cd86b4d93a469e855f951dd12",
            "da581a68a60842f6accddceb858f796f",
            "460ca4c08db44ff79dc37236cba85c7b",
            "0fbfecde7e554dbc9269fee652406677",
            "7d8ed78a73e540fc9bdc39cf6f276c16",
            "de909ae95cb944078278d6103ba8465d"
          ]
        },
        "id": "wPKwuWpOjEaT",
        "outputId": "eb50b9f0-7a5d-41c4-f8f7-c577eb98525a"
      },
      "source": [
        "style = {'description_width': 'initial'}\n",
        "# Continuous_update = False for IntSlider control to stop continuous model evaluation while the slider is being dragged\n",
        "m = interactive(func_fit,model_type=widgets.RadioButtons(options=['Linear regression','LASSO with CV', 'Ridge with CV'],\n",
        "                                                    description = \"Choose Model\",style=style,\n",
        "                                                        layout=Layout(width='250px')),\n",
        "                test_size=widgets.Dropdown(options={\"10% of data\":0.1,\"20% of data\":0.2, \"30% of data\":0.3,\n",
        "                                                    \"40% of data\":0.4,\"50% of data\":0.5},\n",
        "                                          description=\"Test set size\",style=style),\n",
        "               degree=widgets.IntSlider(min=1,max=10,step=1,description= 'Polynomial degree',\n",
        "                                       stye=style,continuous_update=False))\n",
        "\n",
        "# Set the height of the control.children[-1] so that the output does not jump and flicker\n",
        "output = m.children[-1]\n",
        "output.layout.height = '350px'\n",
        "\n",
        "# Display the control\n",
        "display(m)"
      ],
      "execution_count": 11,
      "outputs": [
        {
          "output_type": "display_data",
          "data": {
            "application/vnd.jupyter.widget-view+json": {
              "model_id": "120e871dacd04d59b4f4aff67a08a1c8",
              "version_minor": 0,
              "version_major": 2
            },
            "text/plain": [
              "interactive(children=(RadioButtons(description='Choose Model', layout=Layout(width='250px'), options=('Linear …"
            ]
          },
          "metadata": {
            "tags": []
          }
        }
      ]
    },
    {
      "cell_type": "code",
      "metadata": {
        "collapsed": true,
        "id": "2tzjD6VCjEaV"
      },
      "source": [
        ""
      ],
      "execution_count": null,
      "outputs": []
    }
  ]
}