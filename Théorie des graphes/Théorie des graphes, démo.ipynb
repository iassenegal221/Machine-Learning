{
 "cells": [
  {
   "cell_type": "markdown",
   "metadata": {},
   "source": [
    "# Institut des Algorithmes du Sénégal 💻"
   ]
  },
  {
   "cell_type": "markdown",
   "metadata": {},
   "source": [
    "## TP - Théorie des graphes 🕸"
   ]
  },
  {
   "cell_type": "code",
   "execution_count": 4,
   "metadata": {},
   "outputs": [],
   "source": [
    "import numpy as np\n",
    "import networkx as nx\n",
    "import matplotlib.pyplot as plt"
   ]
  },
  {
   "cell_type": "markdown",
   "metadata": {},
   "source": [
    "### 1 - 🧠 Representation des graphes"
   ]
  },
  {
   "cell_type": "code",
   "execution_count": 5,
   "metadata": {},
   "outputs": [],
   "source": [
    "class Graph:\n",
    "    def __init__(self, adjacency_list):\n",
    "        \"\"\"\n",
    "        Construit le graphe à partir d'une liste d'adjacence\n",
    "        input:\n",
    "            - adjacency_list : {0: [1, 3],\n",
    "                                1: [0, 3]}\n",
    "        \"\"\"\n",
    "        self.A = adjacency_list\n",
    "        self.nodes = list(adjacency_list.keys()) # list avec les identifiants des noeuds\n",
    "    \n",
    "    def voisin(self, u):\n",
    "        \"Retourne les voisins du noeud `u` \"\n",
    "        return self.A[u]\n",
    "    \n",
    "    def degre(self, u):\n",
    "        \"Retourne le degré (nbre de voisin) du noeud `u`\"\n",
    "        return len(self.A[u])\n",
    "    \n",
    "    def draw(self):\n",
    "        G=nx.from_dict_of_lists(self.A)\n",
    "        nx.draw(G, with_labels = True)\n",
    "        plt.show()"
   ]
  },
  {
   "cell_type": "code",
   "execution_count": 8,
   "metadata": {},
   "outputs": [],
   "source": [
    "adjacency = {0: [1, 2],\n",
    "             1: [0, 2],\n",
    "             2: [0, 1, 3],\n",
    "             3: [2, 0]}\n",
    "\n",
    "G = Graph(adjacency)"
   ]
  },
  {
   "cell_type": "code",
   "execution_count": 9,
   "metadata": {},
   "outputs": [
    {
     "data": {
      "image/png": "[encoded data removed]",
      "text/plain": [
       "<Figure size 432x288 with 1 Axes>"
      ]
     },
     "metadata": {},
     "output_type": "display_data"
    }
   ],
   "source": [
    "G.draw()"
   ]
  },
  {
   "cell_type": "markdown",
   "metadata": {},
   "source": [
    "### 2- 🧑‍🤝‍🧑 Representer une File ou Queue avec une liste"
   ]
  },
  {
   "cell_type": "markdown",
   "metadata": {},
   "source": [
    "**Queue** : Last In, First Out "
   ]
  },
  {
   "cell_type": "code",
   "execution_count": 10,
   "metadata": {},
   "outputs": [],
   "source": [
    "class Queue:\n",
    "    def __init__(self):\n",
    "        \"Initialise la queue\"\n",
    "        self.Q = []\n",
    "    \n",
    "    def add(self, u):\n",
    "        \"Ajoute un element à la queue\"\n",
    "        self.Q.append(u)\n",
    "    \n",
    "    def extraire(self):\n",
    "        \"Retourne le dernier element s'il y en a; None sinon\"\n",
    "        return self.Q.pop()\n",
    "    \n",
    "    def is_empty():\n",
    "        \"Retourne True si la queue est vide\"\n",
    "        return len(self.G) == 0\n",
    "    \n",
    "    def __str__(self):\n",
    "        return str(self.Q)"
   ]
  },
  {
   "cell_type": "code",
   "execution_count": 11,
   "metadata": {},
   "outputs": [],
   "source": [
    "Q = Queue()"
   ]
  },
  {
   "cell_type": "code",
   "execution_count": 12,
   "metadata": {},
   "outputs": [],
   "source": [
    "Q.add(2)\n",
    "Q.add(3)\n",
    "Q.add(4)"
   ]
  },
  {
   "cell_type": "code",
   "execution_count": 13,
   "metadata": {},
   "outputs": [
    {
     "name": "stdout",
     "output_type": "stream",
     "text": [
      "[2, 3, 4]\n"
     ]
    }
   ],
   "source": [
    "print(Q)"
   ]
  },
  {
   "cell_type": "code",
   "execution_count": 14,
   "metadata": {},
   "outputs": [
    {
     "data": {
      "text/plain": [
       "4"
      ]
     },
     "execution_count": 14,
     "metadata": {},
     "output_type": "execute_result"
    }
   ],
   "source": [
    "Q.extraire()"
   ]
  },
  {
   "cell_type": "code",
   "execution_count": 16,
   "metadata": {},
   "outputs": [
    {
     "name": "stdout",
     "output_type": "stream",
     "text": [
      "[2, 3]\n"
     ]
    }
   ],
   "source": [
    "print(Q)"
   ]
  },
  {
   "cell_type": "code",
   "execution_count": 111,
   "metadata": {},
   "outputs": [
    {
     "name": "stdout",
     "output_type": "stream",
     "text": [
      "Sortie d'un element: 4\n",
      "Queue après l'extraction: [2, 3]\n"
     ]
    }
   ],
   "source": [
    "print(\"Sortie d'un element:\", Q.extraire())\n",
    "print(\"Queue après l'extraction:\", Q)"
   ]
  },
  {
   "cell_type": "markdown",
   "metadata": {},
   "source": [
    "___\n",
    "**File** : First In, First Out "
   ]
  },
  {
   "cell_type": "code",
   "execution_count": 17,
   "metadata": {},
   "outputs": [],
   "source": [
    "class File:\n",
    "    def __init__(self):\n",
    "        \"Initialise la queue\"\n",
    "        self.F = []\n",
    "    \n",
    "    def add(self, u):\n",
    "        \"Ajoute un element à la queue\"\n",
    "        self.F.append(u)\n",
    "    \n",
    "    def extraire(self):\n",
    "        \"Retourne le premier element s'il y en a; None sinon\"\n",
    "        return self.F.pop(0) if not self.is_empty() else None\n",
    "    \n",
    "    def is_empty(self):\n",
    "        \"Retourne True si la file est vide\"\n",
    "        return len(self.F) == 0\n",
    "    \n",
    "    def __str__(self):\n",
    "        return str(self.F)"
   ]
  },
  {
   "cell_type": "code",
   "execution_count": 18,
   "metadata": {},
   "outputs": [],
   "source": [
    "F = File()"
   ]
  },
  {
   "cell_type": "code",
   "execution_count": 19,
   "metadata": {},
   "outputs": [],
   "source": [
    "F.add(2)\n",
    "F.add(3)\n",
    "F.add(4)"
   ]
  },
  {
   "cell_type": "code",
   "execution_count": 20,
   "metadata": {},
   "outputs": [
    {
     "name": "stdout",
     "output_type": "stream",
     "text": [
      "Sortie d'un element: 2\n",
      "File après l'extraction: [3, 4]\n"
     ]
    }
   ],
   "source": [
    "print(\"Sortie d'un element:\", F.extraire())\n",
    "print(\"File après l'extraction:\", F)"
   ]
  },
  {
   "cell_type": "markdown",
   "metadata": {},
   "source": [
    "### 3- Parcours en largeur"
   ]
  },
  {
   "cell_type": "code",
   "execution_count": 24,
   "metadata": {},
   "outputs": [],
   "source": [
    "def parcours_largeur(G, s):\n",
    "    F = File()\n",
    "    F.add(s)\n",
    "    \n",
    "    visited = [s]\n",
    "    \n",
    "    while not F.is_empty():\n",
    "        current = F.extraire()\n",
    "        print(current)\n",
    "        for voisin in G.voisin(current):\n",
    "            if voisin not in visited:\n",
    "                F.add(voisin)\n",
    "                visited.append(voisin)"
   ]
  },
  {
   "cell_type": "code",
   "execution_count": 33,
   "metadata": {},
   "outputs": [
    {
     "data": {
      "image/png": "[encoded data removed]",
      "text/plain": [
       "<Figure size 432x288 with 1 Axes>"
      ]
     },
     "metadata": {},
     "output_type": "display_data"
    }
   ],
   "source": [
    "adjacency = {0: [1, 2],\n",
    "             1: [0, 2],\n",
    "             2: [0, 1, 3],\n",
    "             3: [2],\n",
    "             4:[5],\n",
    "             5:[4,6],\n",
    "             6:[4]\n",
    "            }\n",
    "\n",
    "G = Graph(adjacency)\n",
    "\n",
    "G.draw()"
   ]
  },
  {
   "cell_type": "code",
   "execution_count": 32,
   "metadata": {},
   "outputs": [
    {
     "name": "stdout",
     "output_type": "stream",
     "text": [
      "0\n",
      "1\n",
      "2\n",
      "3\n"
     ]
    }
   ],
   "source": [
    "parcours_largeur2(G, 0)"
   ]
  },
  {
   "cell_type": "markdown",
   "metadata": {},
   "source": [
    "### 4- Parcours en profondeur"
   ]
  }
 ],
 "metadata": {
  "kernelspec": {
   "display_name": "Python 3",
   "language": "python",
   "name": "python3"
  },
  "language_info": {
   "codemirror_mode": {
    "name": "ipython",
    "version": 3
   },
   "file_extension": ".py",
   "mimetype": "text/x-python",
   "name": "python",
   "nbconvert_exporter": "python",
   "pygments_lexer": "ipython3",
   "version": "3.8.5"
  }
 },
 "nbformat": 4,
 "nbformat_minor": 4
}
