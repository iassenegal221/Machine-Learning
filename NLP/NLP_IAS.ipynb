{
 "cells": [
  {
   "cell_type": "markdown",
   "id": "72c04db9",
   "metadata": {
    "execution": {
     "iopub.execute_input": "2022-04-05T10:34:50.094672Z",
     "iopub.status.busy": "2022-04-05T10:34:50.093914Z",
     "iopub.status.idle": "2022-04-05T10:34:52.262839Z",
     "shell.execute_reply": "2022-04-05T10:34:52.262259Z",
     "shell.execute_reply.started": "2022-04-05T10:34:50.094591Z"
    }
   },
   "source": [
    "https://realpython.com/nltk-nlp-python/\n",
    "\n",
    "<h1><center>Institut des Algorithmes du Sénégal</center></h1>\n",
    "\n",
    "<h1><center>Introduction to NLP</center></h1>"
   ]
  },
  {
   "cell_type": "markdown",
   "id": "55503c12",
   "metadata": {
    "execution": {
     "iopub.execute_input": "2022-04-05T10:34:57.807149Z",
     "iopub.status.busy": "2022-04-05T10:34:57.806792Z",
     "iopub.status.idle": "2022-04-05T10:34:59.177706Z",
     "shell.execute_reply": "2022-04-05T10:34:59.177012Z",
     "shell.execute_reply.started": "2022-04-05T10:34:57.807120Z"
    }
   },
   "source": [
    "Table of Contents\n",
    "\n",
    "- Getting Started With Python’s NLTK\n",
    "- Tokenizing\n",
    "- Filtering Stop Words\n",
    "- Stemming\n",
    "- Tagging Parts of Speech\n",
    "- Lemmatizing\n",
    "- Chunking\n",
    "- Chinking\n",
    "- Using Named Entity Recognition (NER)\n",
    "- Getting Text to Analyze\n",
    "- Using a Concordance\n",
    "- Making a Dispersion Plot\n",
    "- Making a Frequency Distribution\n",
    "- Finding Collocations\n",
    "- Conclusion"
   ]
  },
  {
   "cell_type": "markdown",
   "id": "bfc85647",
   "metadata": {},
   "source": [
    "[Natural language processing (NLP)](https://en.wikipedia.org/wiki/Natural_language_processing) is a field that focuses on making natural human language usable by computer programs. NLTK, or [Natural Language Toolkit](https://www.nltk.org/), is a Python package that you can use for NLP.\n",
    "\n",
    "A lot of the data that you could be analyzing is unstructured data and contains human-readable text. Before you can analyze that data programmatically, you first need to preprocess it. In this tutorial, you’ll take your first look at the kinds of text preprocessing tasks you can do with NLTK so that you’ll be ready to apply them in future projects. You’ll also see how to do some basic text analysis and create visualizations.\n",
    "\n",
    "If you’re familiar with the basics of using Python and would like to get your feet wet with some NLP, then you’ve come to the right place.\n",
    "\n",
    "By the end of this tutorial, you’ll know how to:\n",
    "\n",
    "    - Find text to analyze\n",
    "    - Preprocess your text for analysis\n",
    "    - Analyze your text\n",
    "    - Create visualizations based on your analysis"
   ]
  },
  {
   "cell_type": "markdown",
   "id": "6fdd10e2",
   "metadata": {},
   "source": [
    "## Getting Started With Python’s NLTK\n",
    "\n",
    "The first thing you need to do is make sure that you have Python installed. For this tutorial, you’ll be using Python 3.9. If you don’t yet have Python installed, then check out [Python 3 Installation & Setup Guide](https://realpython.com/installing-python/) to get started.\n",
    "\n",
    "Once you have that dealt with, your next step is to install [NLTK](https://www.nltk.org/install.html) with [pip](https://realpython.com/what-is-pip/). It’s a best practice to install it in a virtual environment. To learn more about virtual environments, check out Python Virtual Environments: A Primer."
   ]
  },
  {
   "cell_type": "code",
   "execution_count": 1,
   "id": "b45d9f79",
   "metadata": {
    "execution": {
     "iopub.execute_input": "2022-05-10T18:10:16.355284Z",
     "iopub.status.busy": "2022-05-10T18:10:16.354785Z",
     "iopub.status.idle": "2022-05-10T18:10:23.513282Z",
     "shell.execute_reply": "2022-05-10T18:10:23.512545Z",
     "shell.execute_reply.started": "2022-05-10T18:10:16.355181Z"
    }
   },
   "outputs": [
    {
     "name": "stdout",
     "output_type": "stream",
     "text": [
      "Requirement already satisfied: nltk in /opt/app-root/lib/python3.8/site-packages (3.7)\n",
      "Requirement already satisfied: tqdm in /opt/app-root/lib/python3.8/site-packages (from nltk) (4.63.0)\n",
      "Requirement already satisfied: joblib in /opt/app-root/lib/python3.8/site-packages (from nltk) (1.1.0)\n",
      "Requirement already satisfied: regex>=2021.8.3 in /opt/app-root/lib/python3.8/site-packages (from nltk) (2022.3.15)\n",
      "Requirement already satisfied: click in /opt/app-root/lib/python3.8/site-packages (from nltk) (8.0.4)\n"
     ]
    }
   ],
   "source": [
    "!pip install nltk"
   ]
  },
  {
   "cell_type": "markdown",
   "id": "4b92c97a",
   "metadata": {},
   "source": [
    "In order to create visualizations for [named entity recognition](https://realpython.com/nltk-nlp-python/#using-named-entity-recognition-ner), you’ll also need to install [NumPy](https://realpython.com/numpy-tutorial/) and [Matplotlib](https://realpython.com/python-matplotlib-guide/):"
   ]
  },
  {
   "cell_type": "code",
   "execution_count": 2,
   "id": "6ab79bc2",
   "metadata": {
    "execution": {
     "iopub.execute_input": "2022-05-10T18:11:50.335515Z",
     "iopub.status.busy": "2022-05-10T18:11:50.334977Z",
     "iopub.status.idle": "2022-05-10T18:11:57.526615Z",
     "shell.execute_reply": "2022-05-10T18:11:57.525873Z",
     "shell.execute_reply.started": "2022-05-10T18:11:50.335484Z"
    }
   },
   "outputs": [
    {
     "name": "stdout",
     "output_type": "stream",
     "text": [
      "Requirement already satisfied: numpy in /opt/app-root/lib/python3.8/site-packages (1.22.2)\n",
      "Requirement already satisfied: matplotlib in /opt/app-root/lib/python3.8/site-packages (3.2.1)\n",
      "Requirement already satisfied: cycler>=0.10 in /opt/app-root/lib/python3.8/site-packages (from matplotlib) (0.11.0)\n",
      "Requirement already satisfied: pyparsing!=2.0.4,!=2.1.2,!=2.1.6,>=2.0.1 in /opt/app-root/lib/python3.8/site-packages (from matplotlib) (2.4.7)\n",
      "Requirement already satisfied: kiwisolver>=1.0.1 in /opt/app-root/lib/python3.8/site-packages (from matplotlib) (1.3.2)\n",
      "Requirement already satisfied: python-dateutil>=2.1 in /opt/app-root/lib/python3.8/site-packages (from matplotlib) (2.8.2)\n",
      "Requirement already satisfied: six>=1.5 in /opt/app-root/lib/python3.8/site-packages (from python-dateutil>=2.1->matplotlib) (1.16.0)\n"
     ]
    }
   ],
   "source": [
    "!pip install numpy matplotlib"
   ]
  },
  {
   "cell_type": "markdown",
   "id": "1f89bfb7",
   "metadata": {},
   "source": [
    "## Tokenizing\n",
    "\n",
    "By tokenizing, you can conveniently split up text by word or by sentence. This will allow you to work with smaller pieces of text that are still relatively coherent and meaningful even outside of the context of the rest of the text. It’s your first step in turning unstructured data into structured data, which is easier to analyze.\n",
    "\n",
    "When you’re analyzing text, you’ll be tokenizing by word and tokenizing by sentence. Here’s what both types of tokenization bring to the table:\n",
    "\n",
    " - Tokenizing by word: Words are like the atoms of natural language. They’re the smallest unit of meaning that still makes sense on its own. Tokenizing your text by word allows you to identify words that come up particularly often. For example, if you were analyzing a group of job ads, then you might find that the word “Python” comes up often. That could suggest high demand for Python knowledge, but you’d need to look deeper to know more.\n",
    " - Tokenizing by sentence: When you tokenize by sentence, you can analyze how those words relate to one another and see more context. Are there a lot of negative words around the word “Python” because the hiring manager doesn’t like Python? Are there more terms from the domain of herpetology than the domain of software development, suggesting that you may be dealing with an entirely different kind of python than you were expecting?"
   ]
  },
  {
   "cell_type": "code",
   "execution_count": 3,
   "id": "9d9dfd72",
   "metadata": {
    "execution": {
     "iopub.execute_input": "2022-05-10T18:13:42.309278Z",
     "iopub.status.busy": "2022-05-10T18:13:42.308563Z",
     "iopub.status.idle": "2022-05-10T18:13:43.592674Z",
     "shell.execute_reply": "2022-05-10T18:13:43.592048Z",
     "shell.execute_reply.started": "2022-05-10T18:13:42.309246Z"
    }
   },
   "outputs": [],
   "source": [
    "## Here’s how to import the relevant parts of NLTK so you can tokenize by word and by sentence:\n",
    "from nltk.tokenize import sent_tokenize, word_tokenize"
   ]
  },
  {
   "cell_type": "markdown",
   "id": "57453aa5",
   "metadata": {},
   "source": [
    "Now that you’ve imported what you need, you can create a [string](https://realpython.com/python-strings/) to tokenize. Here’s a quote from [Dune](/en.wikipedia.org/wiki/Dune_(novel)) that you can use:"
   ]
  },
  {
   "cell_type": "code",
   "execution_count": 4,
   "id": "83b36f5d",
   "metadata": {
    "execution": {
     "iopub.execute_input": "2022-05-10T18:20:30.205248Z",
     "iopub.status.busy": "2022-05-10T18:20:30.204694Z",
     "iopub.status.idle": "2022-05-10T18:20:30.208632Z",
     "shell.execute_reply": "2022-05-10T18:20:30.208092Z",
     "shell.execute_reply.started": "2022-05-10T18:20:30.205221Z"
    }
   },
   "outputs": [],
   "source": [
    "example_string = \"\"\"\n",
    "Muad'Dib learned rapidly because his first training was in how to learn.\n",
    "And the first lesson of all was the basic trust that he could learn.\n",
    "It's shocking to find how many people do not believe they can learn,\n",
    "and how many more believe learning to be difficult.\"\"\""
   ]
  },
  {
   "cell_type": "markdown",
   "id": "a5d9ff11",
   "metadata": {},
   "source": [
    "You can use sent_tokenize() to split up example_string into sentences:"
   ]
  },
  {
   "cell_type": "code",
   "execution_count": 5,
   "id": "7d55ff6b",
   "metadata": {
    "execution": {
     "iopub.execute_input": "2022-05-10T18:20:56.039563Z",
     "iopub.status.busy": "2022-05-10T18:20:56.039176Z",
     "iopub.status.idle": "2022-05-10T18:20:56.058080Z",
     "shell.execute_reply": "2022-05-10T18:20:56.057465Z",
     "shell.execute_reply.started": "2022-05-10T18:20:56.039535Z"
    }
   },
   "outputs": [
    {
     "data": {
      "text/plain": [
       "[\"\\nMuad'Dib learned rapidly because his first training was in how to learn.\",\n",
       " 'And the first lesson of all was the basic trust that he could learn.',\n",
       " \"It's shocking to find how many people do not believe they can learn,\\nand how many more believe learning to be difficult.\"]"
      ]
     },
     "execution_count": 5,
     "metadata": {},
     "output_type": "execute_result"
    }
   ],
   "source": [
    "sent_tokenize(example_string)"
   ]
  },
  {
   "cell_type": "markdown",
   "id": "c343f8d8",
   "metadata": {},
   "source": [
    "Tokenizing example_string by sentence gives you a list of three strings that are sentences:\n",
    "\n",
    "    1. \"Muad'Dib learned rapidly because his first training was in how to learn.\"\n",
    "    2. 'And the first lesson of all was the basic trust that he could learn.'\n",
    "    3. \"It's shocking to find how many people do not believe they can learn, and how many more believe learning to be difficult.\"\n"
   ]
  },
  {
   "cell_type": "markdown",
   "id": "db8c61ff",
   "metadata": {},
   "source": [
    "Now try tokenizing example_string by word:"
   ]
  },
  {
   "cell_type": "code",
   "execution_count": 6,
   "id": "25663a38",
   "metadata": {
    "execution": {
     "iopub.execute_input": "2022-05-10T18:22:28.355757Z",
     "iopub.status.busy": "2022-05-10T18:22:28.355082Z",
     "iopub.status.idle": "2022-05-10T18:22:28.361581Z",
     "shell.execute_reply": "2022-05-10T18:22:28.360889Z",
     "shell.execute_reply.started": "2022-05-10T18:22:28.355718Z"
    }
   },
   "outputs": [
    {
     "data": {
      "text/plain": [
       "[\"Muad'Dib\",\n",
       " 'learned',\n",
       " 'rapidly',\n",
       " 'because',\n",
       " 'his',\n",
       " 'first',\n",
       " 'training',\n",
       " 'was',\n",
       " 'in',\n",
       " 'how',\n",
       " 'to',\n",
       " 'learn',\n",
       " '.',\n",
       " 'And',\n",
       " 'the',\n",
       " 'first',\n",
       " 'lesson',\n",
       " 'of',\n",
       " 'all',\n",
       " 'was',\n",
       " 'the',\n",
       " 'basic',\n",
       " 'trust',\n",
       " 'that',\n",
       " 'he',\n",
       " 'could',\n",
       " 'learn',\n",
       " '.',\n",
       " 'It',\n",
       " \"'s\",\n",
       " 'shocking',\n",
       " 'to',\n",
       " 'find',\n",
       " 'how',\n",
       " 'many',\n",
       " 'people',\n",
       " 'do',\n",
       " 'not',\n",
       " 'believe',\n",
       " 'they',\n",
       " 'can',\n",
       " 'learn',\n",
       " ',',\n",
       " 'and',\n",
       " 'how',\n",
       " 'many',\n",
       " 'more',\n",
       " 'believe',\n",
       " 'learning',\n",
       " 'to',\n",
       " 'be',\n",
       " 'difficult',\n",
       " '.']"
      ]
     },
     "execution_count": 6,
     "metadata": {},
     "output_type": "execute_result"
    }
   ],
   "source": [
    "word_tokenize(example_string)"
   ]
  },
  {
   "cell_type": "markdown",
   "id": "b62e7088",
   "metadata": {},
   "source": [
    "You got a list of strings that NLTK considers to be words, such as:\n",
    "\n",
    "    - \"Muad'Dib\"\n",
    "    - 'training'\n",
    "    - 'how'\n",
    "    \n",
    "    \n",
    "But the following strings were also considered to be words:\n",
    "\n",
    "   -  \"'s\"\n",
    "   - ','\n",
    "   -  '.'\n",
    "\n",
    "See how \"It's\" was split at the apostrophe to give you 'It' and \"'s\", but \"Muad'Dib\" was left whole? This happened because NLTK knows that 'It' and \"'s\" (a contraction of “is”) are two distinct words, so it counted them separately. But \"Muad'Dib\" isn’t an accepted contraction like \"It's\", so it wasn’t read as two separate words and was left intact."
   ]
  },
  {
   "cell_type": "markdown",
   "id": "e1c50345",
   "metadata": {},
   "source": [
    "## Filtering Stop Words\n",
    "\n",
    "Stop words are words that you want to ignore, so you filter them out of your text when you’re processing it. Very common words like 'in', 'is', and 'an' are often used as stop words since they don’t add a lot of meaning to a text in and of themselves.\n",
    "\n",
    "Here’s how to import the relevant parts of NLTK in order to filter out stop words:"
   ]
  },
  {
   "cell_type": "code",
   "execution_count": 8,
   "id": "1adc0a55",
   "metadata": {
    "execution": {
     "iopub.execute_input": "2022-05-10T18:24:22.187476Z",
     "iopub.status.busy": "2022-05-10T18:24:22.186958Z",
     "iopub.status.idle": "2022-05-10T18:24:22.226770Z",
     "shell.execute_reply": "2022-05-10T18:24:22.226228Z",
     "shell.execute_reply.started": "2022-05-10T18:24:22.187447Z"
    }
   },
   "outputs": [
    {
     "name": "stderr",
     "output_type": "stream",
     "text": [
      "[nltk_data] Downloading package stopwords to /opt/app-\n",
      "[nltk_data]     root/src/nltk_data...\n",
      "[nltk_data]   Package stopwords is already up-to-date!\n"
     ]
    }
   ],
   "source": [
    "import nltk\n",
    "nltk.download(\"stopwords\")\n",
    "from nltk.corpus import stopwords\n",
    "from nltk.tokenize import word_tokenize"
   ]
  },
  {
   "cell_type": "markdown",
   "id": "7ee379f4",
   "metadata": {},
   "source": [
    "Here’s a quote from Worf that you can filter:"
   ]
  },
  {
   "cell_type": "code",
   "execution_count": 9,
   "id": "27347fff",
   "metadata": {
    "execution": {
     "iopub.execute_input": "2022-05-10T18:24:47.807803Z",
     "iopub.status.busy": "2022-05-10T18:24:47.807119Z",
     "iopub.status.idle": "2022-05-10T18:24:47.810944Z",
     "shell.execute_reply": "2022-05-10T18:24:47.810217Z",
     "shell.execute_reply.started": "2022-05-10T18:24:47.807769Z"
    }
   },
   "outputs": [],
   "source": [
    "worf_quote = \"Sir, I protest. I am not a merry man!\""
   ]
  },
  {
   "cell_type": "markdown",
   "id": "a632443b",
   "metadata": {},
   "source": [
    "Now tokenize worf_quote by word and store the resulting list in words_in_quote:"
   ]
  },
  {
   "cell_type": "code",
   "execution_count": 10,
   "id": "70a2b2b0",
   "metadata": {
    "execution": {
     "iopub.execute_input": "2022-05-10T18:25:05.894453Z",
     "iopub.status.busy": "2022-05-10T18:25:05.893773Z",
     "iopub.status.idle": "2022-05-10T18:25:05.899388Z",
     "shell.execute_reply": "2022-05-10T18:25:05.898538Z",
     "shell.execute_reply.started": "2022-05-10T18:25:05.894424Z"
    }
   },
   "outputs": [
    {
     "data": {
      "text/plain": [
       "['Sir', ',', 'I', 'protest', '.', 'I', 'am', 'not', 'a', 'merry', 'man', '!']"
      ]
     },
     "execution_count": 10,
     "metadata": {},
     "output_type": "execute_result"
    }
   ],
   "source": [
    "words_in_quote = word_tokenize(worf_quote)\n",
    "words_in_quote"
   ]
  },
  {
   "cell_type": "markdown",
   "id": "2f0ff843",
   "metadata": {},
   "source": [
    "You have a list of the words in worf_quote, so the next step is to create a set of stop words to filter words_in_quote. For this example, you’ll need to focus on stop words in \"english\":"
   ]
  },
  {
   "cell_type": "code",
   "execution_count": 11,
   "id": "15ab047e",
   "metadata": {
    "execution": {
     "iopub.execute_input": "2022-05-10T18:25:25.877885Z",
     "iopub.status.busy": "2022-05-10T18:25:25.877370Z",
     "iopub.status.idle": "2022-05-10T18:25:25.882883Z",
     "shell.execute_reply": "2022-05-10T18:25:25.882210Z",
     "shell.execute_reply.started": "2022-05-10T18:25:25.877857Z"
    }
   },
   "outputs": [],
   "source": [
    "stop_words = set(stopwords.words(\"english\"))"
   ]
  },
  {
   "cell_type": "markdown",
   "id": "88788e11",
   "metadata": {},
   "source": [
    "Next, create an empty list to hold the words that make it past the filter:"
   ]
  },
  {
   "cell_type": "code",
   "execution_count": 12,
   "id": "17fbd629",
   "metadata": {
    "execution": {
     "iopub.execute_input": "2022-05-10T18:25:47.697791Z",
     "iopub.status.busy": "2022-05-10T18:25:47.697435Z",
     "iopub.status.idle": "2022-05-10T18:25:47.701456Z",
     "shell.execute_reply": "2022-05-10T18:25:47.700527Z",
     "shell.execute_reply.started": "2022-05-10T18:25:47.697761Z"
    }
   },
   "outputs": [],
   "source": [
    "filtered_list = []"
   ]
  },
  {
   "cell_type": "markdown",
   "id": "925b591f",
   "metadata": {},
   "source": [
    "You created an empty list, filtered_list, to hold all the words in words_in_quote that aren’t stop words. Now you can use stop_words to filter words_in_quote:"
   ]
  },
  {
   "cell_type": "code",
   "execution_count": 13,
   "id": "e96117b0",
   "metadata": {
    "execution": {
     "iopub.execute_input": "2022-05-10T18:26:09.844602Z",
     "iopub.status.busy": "2022-05-10T18:26:09.844050Z",
     "iopub.status.idle": "2022-05-10T18:26:09.848070Z",
     "shell.execute_reply": "2022-05-10T18:26:09.847342Z",
     "shell.execute_reply.started": "2022-05-10T18:26:09.844574Z"
    }
   },
   "outputs": [],
   "source": [
    "for word in words_in_quote:\n",
    "   if word.casefold() not in stop_words:\n",
    "        filtered_list.append(word)"
   ]
  },
  {
   "cell_type": "markdown",
   "id": "249f9e9f",
   "metadata": {},
   "source": [
    "You iterated over words_in_quote with a for loop and added all the words that weren’t stop words to filtered_list. You used .casefold() on word so you could ignore whether the letters in word were uppercase or lowercase. This is worth doing because stopwords.words('english') includes only lowercase versions of stop words.\n",
    "\n",
    "Alternatively, you could use a list comprehension to make a list of all the words in your text that aren’t stop words:"
   ]
  },
  {
   "cell_type": "code",
   "execution_count": 14,
   "id": "eac07eeb",
   "metadata": {
    "execution": {
     "iopub.execute_input": "2022-05-10T18:26:32.431773Z",
     "iopub.status.busy": "2022-05-10T18:26:32.431110Z",
     "iopub.status.idle": "2022-05-10T18:26:32.435215Z",
     "shell.execute_reply": "2022-05-10T18:26:32.434468Z",
     "shell.execute_reply.started": "2022-05-10T18:26:32.431737Z"
    }
   },
   "outputs": [],
   "source": [
    "filtered_list = [\n",
    "    word for word in words_in_quote if word.casefold() not in stop_words\n",
    "]"
   ]
  },
  {
   "cell_type": "markdown",
   "id": "8e6a7345",
   "metadata": {},
   "source": [
    "When you use a list comprehension, you don’t create an empty list and then add items to the end of it. Instead, you define the list and its contents at the same time. Using a list comprehension is often seen as more Pythonic.\n",
    "\n",
    "Take a look at the words that ended up in filtered_list:"
   ]
  },
  {
   "cell_type": "markdown",
   "id": "eda0d6c0",
   "metadata": {},
   "source": [
    "You filtered out a few words like 'am' and 'a', but you also filtered out 'not', which does affect the overall meaning of the sentence. (Worf won’t be happy about this.)\n",
    "\n",
    "Words like 'I' and 'not' may seem too important to filter out, and depending on what kind of analysis you want to do, they can be. Here’s why:\n",
    "\n",
    "    - 'I' is a pronoun, which are context words rather than content words:\n",
    "\n",
    "        - Content words give you information about the topics covered in the text or the sentiment that the author has about those topics.\n",
    "\n",
    "        - Context words give you information about writing style. You can observe patterns in how authors use context words in order to quantify their writing style. Once you’ve quantified their writing style, you can analyze a text written by an unknown author to see how closely it follows a particular writing style so you can try to identify who the author is.\n",
    "\n",
    "    - 'not' is technically an adverb but has still been included in NLTK’s list of stop words for English. If you want to edit the list of stop words to exclude 'not' or make other changes, then you can download it.\n",
    "    \n",
    "    \n",
    "So, 'I' and 'not' can be important parts of a sentence, but it depends on what you’re trying to learn from that sentence."
   ]
  },
  {
   "cell_type": "markdown",
   "id": "9e98374a",
   "metadata": {},
   "source": [
    "## Stemming\n",
    "\n",
    "Stemming is a text processing task in which you reduce words to their [root](https://simple.wikipedia.org/wiki/Root_(linguistics)), which is the core part of a word. For example, the words “helping” and “helper” share the root “help.” Stemming allows you to zero in on the basic meaning of a word rather than all the details of how it’s being used. NLTK has [more than one stemmer](http://www.nltk.org/howto/stem.html), but you’ll be using the [Porter stemmer](https://www.nltk.org/_modules/nltk/stem/porter.html).\n",
    "\n",
    "Here’s how to import the relevant parts of NLTK in order to start stemming:"
   ]
  },
  {
   "cell_type": "code",
   "execution_count": 15,
   "id": "28929552",
   "metadata": {
    "execution": {
     "iopub.execute_input": "2022-05-10T18:36:40.932807Z",
     "iopub.status.busy": "2022-05-10T18:36:40.932112Z",
     "iopub.status.idle": "2022-05-10T18:36:40.936065Z",
     "shell.execute_reply": "2022-05-10T18:36:40.935421Z",
     "shell.execute_reply.started": "2022-05-10T18:36:40.932771Z"
    }
   },
   "outputs": [],
   "source": [
    "from nltk.stem import PorterStemmer\n",
    "from nltk.tokenize import word_tokenize"
   ]
  },
  {
   "cell_type": "markdown",
   "id": "a1a0080a",
   "metadata": {},
   "source": [
    "Now that you’re done importing, you can create a stemmer with PorterStemmer():"
   ]
  },
  {
   "cell_type": "code",
   "execution_count": 16,
   "id": "e6040a78",
   "metadata": {
    "execution": {
     "iopub.execute_input": "2022-05-10T18:36:53.137473Z",
     "iopub.status.busy": "2022-05-10T18:36:53.136792Z",
     "iopub.status.idle": "2022-05-10T18:36:53.140541Z",
     "shell.execute_reply": "2022-05-10T18:36:53.139848Z",
     "shell.execute_reply.started": "2022-05-10T18:36:53.137441Z"
    }
   },
   "outputs": [],
   "source": [
    "stemmer = PorterStemmer()"
   ]
  },
  {
   "cell_type": "code",
   "execution_count": 17,
   "id": "e427a57d",
   "metadata": {
    "execution": {
     "iopub.execute_input": "2022-05-10T18:37:03.213260Z",
     "iopub.status.busy": "2022-05-10T18:37:03.212903Z",
     "iopub.status.idle": "2022-05-10T18:37:03.216605Z",
     "shell.execute_reply": "2022-05-10T18:37:03.215961Z",
     "shell.execute_reply.started": "2022-05-10T18:37:03.213231Z"
    }
   },
   "outputs": [],
   "source": [
    "string_for_stemming = \"\"\"\n",
    "The crew of the USS Discovery discovered many discoveries.\n",
    "Discovering is what explorers do.\"\"\""
   ]
  },
  {
   "cell_type": "markdown",
   "id": "b497862a",
   "metadata": {},
   "source": [
    "Before you can stem the words in that string, you need to separate all the words in it:"
   ]
  },
  {
   "cell_type": "code",
   "execution_count": 18,
   "id": "e43a0c9a",
   "metadata": {
    "execution": {
     "iopub.execute_input": "2022-05-10T18:37:20.966542Z",
     "iopub.status.busy": "2022-05-10T18:37:20.966227Z",
     "iopub.status.idle": "2022-05-10T18:37:20.970488Z",
     "shell.execute_reply": "2022-05-10T18:37:20.969758Z",
     "shell.execute_reply.started": "2022-05-10T18:37:20.966515Z"
    }
   },
   "outputs": [],
   "source": [
    "words = word_tokenize(string_for_stemming)"
   ]
  },
  {
   "cell_type": "markdown",
   "id": "49984dcf",
   "metadata": {},
   "source": [
    "Now that you have a list of all the tokenized words from the string, take a look at what’s in words:"
   ]
  },
  {
   "cell_type": "markdown",
   "id": "c21060d9",
   "metadata": {},
   "source": [
    "Create a list of the stemmed versions of the words in words by using stemmer.stem() in a list comprehension:"
   ]
  },
  {
   "cell_type": "code",
   "execution_count": 19,
   "id": "a2a9d906",
   "metadata": {
    "execution": {
     "iopub.execute_input": "2022-05-10T18:37:57.478117Z",
     "iopub.status.busy": "2022-05-10T18:37:57.477795Z",
     "iopub.status.idle": "2022-05-10T18:37:57.481752Z",
     "shell.execute_reply": "2022-05-10T18:37:57.481115Z",
     "shell.execute_reply.started": "2022-05-10T18:37:57.478087Z"
    }
   },
   "outputs": [],
   "source": [
    "stemmed_words = [stemmer.stem(word) for word in words]"
   ]
  },
  {
   "cell_type": "markdown",
   "id": "49f17067",
   "metadata": {},
   "source": [
    "Take a look at what’s in stemmed_words:"
   ]
  },
  {
   "cell_type": "code",
   "execution_count": 20,
   "id": "8f3b2fb2",
   "metadata": {
    "execution": {
     "iopub.execute_input": "2022-05-10T18:38:17.885462Z",
     "iopub.status.busy": "2022-05-10T18:38:17.884798Z",
     "iopub.status.idle": "2022-05-10T18:38:17.889869Z",
     "shell.execute_reply": "2022-05-10T18:38:17.889085Z",
     "shell.execute_reply.started": "2022-05-10T18:38:17.885430Z"
    }
   },
   "outputs": [
    {
     "data": {
      "text/plain": [
       "['the',\n",
       " 'crew',\n",
       " 'of',\n",
       " 'the',\n",
       " 'uss',\n",
       " 'discoveri',\n",
       " 'discov',\n",
       " 'mani',\n",
       " 'discoveri',\n",
       " '.',\n",
       " 'discov',\n",
       " 'is',\n",
       " 'what',\n",
       " 'explor',\n",
       " 'do',\n",
       " '.']"
      ]
     },
     "execution_count": 20,
     "metadata": {},
     "output_type": "execute_result"
    }
   ],
   "source": [
    "stemmed_words"
   ]
  },
  {
   "attachments": {
    "1f4a90f5-0d52-4995-add4-eeeb998b0364.png": {
     "image/png": "[encoded data removed]"
    }
   },
   "cell_type": "markdown",
   "id": "efb83059",
   "metadata": {},
   "source": [
    "Here’s what happened to all the words that started with 'discov' or 'Discov':\n",
    "\n",
    "![image.png](attachment:1f4a90f5-0d52-4995-add4-eeeb998b0364.png)"
   ]
  },
  {
   "cell_type": "markdown",
   "id": "efdecab0",
   "metadata": {},
   "source": [
    "Now that you know what the POS tags mean, you can see that your tagging was fairly successful:\n",
    "\n",
    "   - 'pie' was tagged NN because it’s a singular noun.\n",
    "   - 'you' was tagged PRP because it’s a personal pronoun.\n",
    "   - 'invent' was tagged VB because it’s the base form of a verb.\n",
    "\n",
    "\n",
    "But how would NLTK handle tagging the parts of speech in a text that is basically gibberish? Jabberwocky is a nonsense poem that doesn’t technically mean much but is still written in a way that can convey some kind of meaning to English speakers.\n",
    "\n",
    "Make a string to hold an excerpt from this poem:"
   ]
  },
  {
   "cell_type": "code",
   "execution_count": 21,
   "id": "0a6f3c2d",
   "metadata": {
    "execution": {
     "iopub.execute_input": "2022-05-10T18:48:52.920301Z",
     "iopub.status.busy": "2022-05-10T18:48:52.919956Z",
     "iopub.status.idle": "2022-05-10T18:48:52.923652Z",
     "shell.execute_reply": "2022-05-10T18:48:52.922941Z",
     "shell.execute_reply.started": "2022-05-10T18:48:52.920273Z"
    }
   },
   "outputs": [],
   "source": [
    "jabberwocky_excerpt = \"\"\"\n",
    "'Twas brillig, and the slithy toves did gyre and gimble in the wabe:\n",
    "all mimsy were the borogoves, and the mome raths outgrabe.\"\"\""
   ]
  },
  {
   "cell_type": "markdown",
   "id": "5c8e21e5",
   "metadata": {},
   "source": [
    "Use word_tokenize to separate the words in the excerpt and store them in a list:"
   ]
  },
  {
   "cell_type": "code",
   "execution_count": 22,
   "id": "1254c007",
   "metadata": {
    "execution": {
     "iopub.execute_input": "2022-05-10T18:49:21.696481Z",
     "iopub.status.busy": "2022-05-10T18:49:21.696112Z",
     "iopub.status.idle": "2022-05-10T18:49:21.700182Z",
     "shell.execute_reply": "2022-05-10T18:49:21.699474Z",
     "shell.execute_reply.started": "2022-05-10T18:49:21.696454Z"
    }
   },
   "outputs": [],
   "source": [
    "words_in_excerpt = word_tokenize(jabberwocky_excerpt)"
   ]
  },
  {
   "cell_type": "markdown",
   "id": "e5dcf4be",
   "metadata": {
    "execution": {
     "iopub.execute_input": "2022-05-10T18:49:36.938336Z",
     "iopub.status.busy": "2022-05-10T18:49:36.937620Z",
     "iopub.status.idle": "2022-05-10T18:49:36.942771Z",
     "shell.execute_reply": "2022-05-10T18:49:36.941859Z",
     "shell.execute_reply.started": "2022-05-10T18:49:36.938301Z"
    }
   },
   "source": [
    "Call nltk.pos_tag() on your new list of words:"
   ]
  },
  {
   "cell_type": "code",
   "execution_count": 25,
   "id": "4a95be62",
   "metadata": {
    "execution": {
     "iopub.execute_input": "2022-05-10T18:49:51.622071Z",
     "iopub.status.busy": "2022-05-10T18:49:51.621740Z",
     "iopub.status.idle": "2022-05-10T18:49:51.923811Z",
     "shell.execute_reply": "2022-05-10T18:49:51.923225Z",
     "shell.execute_reply.started": "2022-05-10T18:49:51.622042Z"
    }
   },
   "outputs": [
    {
     "data": {
      "text/plain": [
       "[(\"'Twas\", 'CD'),\n",
       " ('brillig', 'NN'),\n",
       " (',', ','),\n",
       " ('and', 'CC'),\n",
       " ('the', 'DT'),\n",
       " ('slithy', 'JJ'),\n",
       " ('toves', 'NNS'),\n",
       " ('did', 'VBD'),\n",
       " ('gyre', 'NN'),\n",
       " ('and', 'CC'),\n",
       " ('gimble', 'JJ'),\n",
       " ('in', 'IN'),\n",
       " ('the', 'DT'),\n",
       " ('wabe', 'NN'),\n",
       " (':', ':'),\n",
       " ('all', 'DT'),\n",
       " ('mimsy', 'NNS'),\n",
       " ('were', 'VBD'),\n",
       " ('the', 'DT'),\n",
       " ('borogoves', 'NNS'),\n",
       " (',', ','),\n",
       " ('and', 'CC'),\n",
       " ('the', 'DT'),\n",
       " ('mome', 'JJ'),\n",
       " ('raths', 'NNS'),\n",
       " ('outgrabe', 'RB'),\n",
       " ('.', '.')]"
      ]
     },
     "execution_count": 25,
     "metadata": {},
     "output_type": "execute_result"
    }
   ],
   "source": [
    "nltk.pos_tag(words_in_excerpt)"
   ]
  },
  {
   "cell_type": "markdown",
   "id": "15edc468",
   "metadata": {},
   "source": [
    "Accepted English words like 'and' and 'the' were correctly tagged as a conjunction and a determiner, respectively. The gibberish word 'slithy' was tagged as an adjective, which is what a human English speaker would probably assume from the context of the poem as well. Way to go, NLTK!"
   ]
  },
  {
   "cell_type": "markdown",
   "id": "6c4b96f7",
   "metadata": {},
   "source": [
    "## Lemmatizing\n",
    "\n",
    "Now that you’re up to speed on parts of speech, you can circle back to lemmatizing. Like stemming, lemmatizing reduces words to their core meaning, but it will give you a complete English word that makes sense on its own instead of just a fragment of a word like 'discoveri'.\n",
    "\n",
    "\n",
    "\n",
    "\n",
    "Note: A lemma is a word that represents a whole group of words, and that group of words is called a lexeme.\n",
    "\n",
    "For example, if you were to look up the word “blending” in a dictionary, then you’d need to look at the entry for “blend,” but you would find “blending” listed in that entry.\n",
    "\n",
    "In this example, “blend” is the lemma, and “blending” is part of the lexeme. So when you lemmatize a word, you are reducing it to its lemma.\n",
    "\n",
    "Here’s how to import the relevant parts of NLTK in order to start lemmatizing:"
   ]
  },
  {
   "cell_type": "code",
   "execution_count": 26,
   "id": "3cbe1a92",
   "metadata": {
    "execution": {
     "iopub.execute_input": "2022-05-10T18:52:04.299479Z",
     "iopub.status.busy": "2022-05-10T18:52:04.299123Z",
     "iopub.status.idle": "2022-05-10T18:52:04.302851Z",
     "shell.execute_reply": "2022-05-10T18:52:04.302162Z",
     "shell.execute_reply.started": "2022-05-10T18:52:04.299443Z"
    }
   },
   "outputs": [],
   "source": [
    "from nltk.stem import WordNetLemmatizer"
   ]
  },
  {
   "cell_type": "markdown",
   "id": "3d514072",
   "metadata": {},
   "source": [
    "Create a lemmatizer to use:"
   ]
  },
  {
   "cell_type": "code",
   "execution_count": 27,
   "id": "9b1ad343",
   "metadata": {
    "execution": {
     "iopub.execute_input": "2022-05-10T18:52:29.704493Z",
     "iopub.status.busy": "2022-05-10T18:52:29.703917Z",
     "iopub.status.idle": "2022-05-10T18:52:29.707793Z",
     "shell.execute_reply": "2022-05-10T18:52:29.707068Z",
     "shell.execute_reply.started": "2022-05-10T18:52:29.704460Z"
    }
   },
   "outputs": [],
   "source": [
    "lemmatizer = WordNetLemmatizer()"
   ]
  },
  {
   "cell_type": "markdown",
   "id": "0b4f38d8",
   "metadata": {},
   "source": [
    "Let’s start with lemmatizing a plural noun:"
   ]
  },
  {
   "cell_type": "code",
   "execution_count": 29,
   "id": "ca7f712c",
   "metadata": {
    "execution": {
     "iopub.execute_input": "2022-05-10T19:32:18.761772Z",
     "iopub.status.busy": "2022-05-10T19:32:18.761073Z",
     "iopub.status.idle": "2022-05-10T19:32:22.821874Z",
     "shell.execute_reply": "2022-05-10T19:32:22.821239Z",
     "shell.execute_reply.started": "2022-05-10T19:32:18.761740Z"
    }
   },
   "outputs": [
    {
     "name": "stderr",
     "output_type": "stream",
     "text": [
      "[nltk_data] Downloading package omw-1.4 to /opt/app-\n",
      "[nltk_data]     root/src/nltk_data...\n",
      "[nltk_data]   Unzipping corpora/omw-1.4.zip.\n"
     ]
    },
    {
     "data": {
      "text/plain": [
       "'scarf'"
      ]
     },
     "execution_count": 29,
     "metadata": {},
     "output_type": "execute_result"
    }
   ],
   "source": [
    "import nltk\n",
    "nltk.download('omw-1.4')\n",
    "lemmatizer.lemmatize(\"scarves\")"
   ]
  },
  {
   "cell_type": "markdown",
   "id": "0c79eff5",
   "metadata": {},
   "source": [
    "\"scarves\" gave you 'scarf', so that’s already a bit more sophisticated than what you would have gotten with the Porter stemmer, which is 'scarv'. Next, create a string with more than one word to lemmatize:"
   ]
  },
  {
   "cell_type": "code",
   "execution_count": 30,
   "id": "eca2c349",
   "metadata": {
    "execution": {
     "iopub.execute_input": "2022-05-10T19:32:41.152839Z",
     "iopub.status.busy": "2022-05-10T19:32:41.152524Z",
     "iopub.status.idle": "2022-05-10T19:32:41.156343Z",
     "shell.execute_reply": "2022-05-10T19:32:41.155613Z",
     "shell.execute_reply.started": "2022-05-10T19:32:41.152812Z"
    }
   },
   "outputs": [],
   "source": [
    "string_for_lemmatizing = \"The friends of DeSoto love scarves.\""
   ]
  },
  {
   "cell_type": "markdown",
   "id": "69ae3385",
   "metadata": {},
   "source": [
    "Now tokenize that string by word:"
   ]
  },
  {
   "cell_type": "code",
   "execution_count": 31,
   "id": "ca6b9633",
   "metadata": {
    "execution": {
     "iopub.execute_input": "2022-05-10T19:33:01.403302Z",
     "iopub.status.busy": "2022-05-10T19:33:01.402794Z",
     "iopub.status.idle": "2022-05-10T19:33:01.406867Z",
     "shell.execute_reply": "2022-05-10T19:33:01.406121Z",
     "shell.execute_reply.started": "2022-05-10T19:33:01.403275Z"
    }
   },
   "outputs": [],
   "source": [
    "words = word_tokenize(string_for_lemmatizing)"
   ]
  },
  {
   "cell_type": "markdown",
   "id": "ed15ba17",
   "metadata": {},
   "source": [
    "Here’s your list of words:"
   ]
  },
  {
   "cell_type": "code",
   "execution_count": 32,
   "id": "51a9bc67",
   "metadata": {
    "execution": {
     "iopub.execute_input": "2022-05-10T19:33:25.553973Z",
     "iopub.status.busy": "2022-05-10T19:33:25.553625Z",
     "iopub.status.idle": "2022-05-10T19:33:25.558831Z",
     "shell.execute_reply": "2022-05-10T19:33:25.558058Z",
     "shell.execute_reply.started": "2022-05-10T19:33:25.553947Z"
    }
   },
   "outputs": [
    {
     "data": {
      "text/plain": [
       "['The', 'friends', 'of', 'DeSoto', 'love', 'scarves', '.']"
      ]
     },
     "execution_count": 32,
     "metadata": {},
     "output_type": "execute_result"
    }
   ],
   "source": [
    "words"
   ]
  },
  {
   "cell_type": "markdown",
   "id": "f538699e",
   "metadata": {},
   "source": [
    "Create a list containing all the words in words after they’ve been lemmatized:"
   ]
  },
  {
   "cell_type": "code",
   "execution_count": 33,
   "id": "a3f34832",
   "metadata": {
    "execution": {
     "iopub.execute_input": "2022-05-10T19:42:08.789372Z",
     "iopub.status.busy": "2022-05-10T19:42:08.788738Z",
     "iopub.status.idle": "2022-05-10T19:42:08.792834Z",
     "shell.execute_reply": "2022-05-10T19:42:08.792102Z",
     "shell.execute_reply.started": "2022-05-10T19:42:08.789333Z"
    }
   },
   "outputs": [],
   "source": [
    "lemmatized_words = [lemmatizer.lemmatize(word) for word in words]"
   ]
  },
  {
   "cell_type": "markdown",
   "id": "dfce4ab5",
   "metadata": {},
   "source": [
    "Here’s the list you got:"
   ]
  },
  {
   "cell_type": "code",
   "execution_count": 34,
   "id": "359c8dd6",
   "metadata": {
    "execution": {
     "iopub.execute_input": "2022-05-10T19:42:27.437661Z",
     "iopub.status.busy": "2022-05-10T19:42:27.437110Z",
     "iopub.status.idle": "2022-05-10T19:42:27.442234Z",
     "shell.execute_reply": "2022-05-10T19:42:27.441490Z",
     "shell.execute_reply.started": "2022-05-10T19:42:27.437633Z"
    }
   },
   "outputs": [
    {
     "data": {
      "text/plain": [
       "['The', 'friend', 'of', 'DeSoto', 'love', 'scarf', '.']"
      ]
     },
     "execution_count": 34,
     "metadata": {},
     "output_type": "execute_result"
    }
   ],
   "source": [
    "lemmatized_words"
   ]
  },
  {
   "cell_type": "markdown",
   "id": "01af24cd",
   "metadata": {},
   "source": [
    "That looks right. The plurals 'friends' and 'scarves' became the singulars 'friend' and 'scarf'.\n",
    "\n",
    "But what would happen if you lemmatized a word that looked very different from its lemma? Try lemmatizing \"worst\":"
   ]
  },
  {
   "cell_type": "code",
   "execution_count": 35,
   "id": "5efcd7c8",
   "metadata": {
    "execution": {
     "iopub.execute_input": "2022-05-10T19:42:53.978016Z",
     "iopub.status.busy": "2022-05-10T19:42:53.977689Z",
     "iopub.status.idle": "2022-05-10T19:42:53.982940Z",
     "shell.execute_reply": "2022-05-10T19:42:53.982233Z",
     "shell.execute_reply.started": "2022-05-10T19:42:53.977988Z"
    }
   },
   "outputs": [
    {
     "data": {
      "text/plain": [
       "'worst'"
      ]
     },
     "execution_count": 35,
     "metadata": {},
     "output_type": "execute_result"
    }
   ],
   "source": [
    "lemmatizer.lemmatize(\"worst\")"
   ]
  },
  {
   "cell_type": "markdown",
   "id": "2d93a4ec",
   "metadata": {},
   "source": [
    "You got the result 'worst' because lemmatizer.lemmatize() assumed that \"worst\" was a noun. You can make it clear that you want \"worst\" to be an adjective:"
   ]
  },
  {
   "cell_type": "code",
   "execution_count": 36,
   "id": "03d6db1c",
   "metadata": {
    "execution": {
     "iopub.execute_input": "2022-05-10T19:43:12.231298Z",
     "iopub.status.busy": "2022-05-10T19:43:12.230614Z",
     "iopub.status.idle": "2022-05-10T19:43:12.235836Z",
     "shell.execute_reply": "2022-05-10T19:43:12.235135Z",
     "shell.execute_reply.started": "2022-05-10T19:43:12.231259Z"
    }
   },
   "outputs": [
    {
     "data": {
      "text/plain": [
       "'bad'"
      ]
     },
     "execution_count": 36,
     "metadata": {},
     "output_type": "execute_result"
    }
   ],
   "source": [
    "lemmatizer.lemmatize(\"worst\", pos=\"a\")"
   ]
  },
  {
   "cell_type": "markdown",
   "id": "eb2f92c4",
   "metadata": {},
   "source": [
    "The default parameter for pos is 'n' for noun, but you made sure that \"worst\" was treated as an adjective by adding the parameter pos=\"a\". As a result, you got 'bad', which looks very different from your original word and is nothing like what you’d get if you were stemming. This is because \"worst\" is the superlative form of the adjective 'bad', and lemmatizing reduces superlatives as well as comparatives to their lemmas.\n",
    "\n",
    "Now that you know how to use NLTK to tag parts of speech, you can try tagging your words before lemmatizing them to avoid mixing up homographs, or words that are spelled the same but have different meanings and can be different parts of speech."
   ]
  },
  {
   "cell_type": "markdown",
   "id": "3ddeb978",
   "metadata": {},
   "source": [
    "## Chunking\n",
    "\n",
    "While tokenizing allows you to identify words and sentences, chunking allows you to identify phrases.\n",
    "\n",
    "\n",
    "\n",
    "Note: A phrase is a word or group of words that works as a single unit to perform a grammatical function. Noun phrases are built around a noun.\n",
    "\n",
    "Here are some examples:\n",
    "\n",
    "   - “A planet”\n",
    "   - “A tilting planet”\n",
    "   -“A swiftly tilting planet”\n",
    "\n",
    "Chunking makes use of POS tags to group words and apply chunk tags to those groups. Chunks don’t overlap, so one instance of a word can be in only one chunk at a time.\n",
    "\n",
    "Here’s how to import the relevant parts of NLTK in order to chunk:"
   ]
  },
  {
   "cell_type": "code",
   "execution_count": 37,
   "id": "f6fba0ad",
   "metadata": {
    "execution": {
     "iopub.execute_input": "2022-05-10T20:20:26.256304Z",
     "iopub.status.busy": "2022-05-10T20:20:26.255900Z",
     "iopub.status.idle": "2022-05-10T20:20:26.259933Z",
     "shell.execute_reply": "2022-05-10T20:20:26.259108Z",
     "shell.execute_reply.started": "2022-05-10T20:20:26.256264Z"
    }
   },
   "outputs": [],
   "source": [
    "from nltk.tokenize import word_tokenize"
   ]
  },
  {
   "cell_type": "markdown",
   "id": "4930dcf1",
   "metadata": {},
   "source": [
    "Before you can chunk, you need to make sure that the parts of speech in your text are tagged, so create a string for POS tagging. You can use this quote from The [Lord of the Rings](https://en.wikipedia.org/wiki/The_Lord_of_the_Rings):"
   ]
  },
  {
   "cell_type": "code",
   "execution_count": 38,
   "id": "4db42815",
   "metadata": {
    "execution": {
     "iopub.execute_input": "2022-05-10T20:21:30.083172Z",
     "iopub.status.busy": "2022-05-10T20:21:30.082580Z",
     "iopub.status.idle": "2022-05-10T20:21:30.086377Z",
     "shell.execute_reply": "2022-05-10T20:21:30.085595Z",
     "shell.execute_reply.started": "2022-05-10T20:21:30.083145Z"
    }
   },
   "outputs": [],
   "source": [
    "lotr_quote = \"It's a dangerous business, Frodo, going out your door.\""
   ]
  },
  {
   "cell_type": "markdown",
   "id": "5e45183d",
   "metadata": {},
   "source": [
    "Now tokenize that string by word:"
   ]
  },
  {
   "cell_type": "code",
   "execution_count": 39,
   "id": "027193b4",
   "metadata": {
    "execution": {
     "iopub.execute_input": "2022-05-10T20:22:40.901075Z",
     "iopub.status.busy": "2022-05-10T20:22:40.900429Z",
     "iopub.status.idle": "2022-05-10T20:22:40.905841Z",
     "shell.execute_reply": "2022-05-10T20:22:40.905169Z",
     "shell.execute_reply.started": "2022-05-10T20:22:40.901049Z"
    }
   },
   "outputs": [
    {
     "data": {
      "text/plain": [
       "['It',\n",
       " \"'s\",\n",
       " 'a',\n",
       " 'dangerous',\n",
       " 'business',\n",
       " ',',\n",
       " 'Frodo',\n",
       " ',',\n",
       " 'going',\n",
       " 'out',\n",
       " 'your',\n",
       " 'door',\n",
       " '.']"
      ]
     },
     "execution_count": 39,
     "metadata": {},
     "output_type": "execute_result"
    }
   ],
   "source": [
    "words_in_lotr_quote = word_tokenize(lotr_quote)\n",
    "words_in_lotr_quote"
   ]
  },
  {
   "cell_type": "markdown",
   "id": "f98e4a40",
   "metadata": {},
   "source": [
    "Now you’ve got a list of all of the words in lotr_quote.\n",
    "\n",
    "The next step is to tag those words by part of speech:"
   ]
  },
  {
   "cell_type": "code",
   "execution_count": 40,
   "id": "7cc41197",
   "metadata": {
    "execution": {
     "iopub.execute_input": "2022-05-10T20:23:06.640921Z",
     "iopub.status.busy": "2022-05-10T20:23:06.640256Z",
     "iopub.status.idle": "2022-05-10T20:23:06.654191Z",
     "shell.execute_reply": "2022-05-10T20:23:06.653639Z",
     "shell.execute_reply.started": "2022-05-10T20:23:06.640891Z"
    }
   },
   "outputs": [
    {
     "name": "stderr",
     "output_type": "stream",
     "text": [
      "[nltk_data] Downloading package averaged_perceptron_tagger to\n",
      "[nltk_data]     /opt/app-root/src/nltk_data...\n",
      "[nltk_data]   Package averaged_perceptron_tagger is already up-to-\n",
      "[nltk_data]       date!\n"
     ]
    },
    {
     "data": {
      "text/plain": [
       "[('It', 'PRP'),\n",
       " (\"'s\", 'VBZ'),\n",
       " ('a', 'DT'),\n",
       " ('dangerous', 'JJ'),\n",
       " ('business', 'NN'),\n",
       " (',', ','),\n",
       " ('Frodo', 'NNP'),\n",
       " (',', ','),\n",
       " ('going', 'VBG'),\n",
       " ('out', 'RP'),\n",
       " ('your', 'PRP$'),\n",
       " ('door', 'NN'),\n",
       " ('.', '.')]"
      ]
     },
     "execution_count": 40,
     "metadata": {},
     "output_type": "execute_result"
    }
   ],
   "source": [
    "nltk.download(\"averaged_perceptron_tagger\")\n",
    "lotr_pos_tags = nltk.pos_tag(words_in_lotr_quote)\n",
    "lotr_pos_tags"
   ]
  },
  {
   "cell_type": "markdown",
   "id": "b8613169",
   "metadata": {},
   "source": [
    "You’ve got a list of tuples of all the words in the quote, along with their POS tag. In order to chunk, you first need to define a chunk grammar."
   ]
  },
  {
   "cell_type": "markdown",
   "id": "daa2ac84",
   "metadata": {},
   "source": [
    "\n",
    "\n",
    "Note: A chunk grammar is a combination of rules on how sentences should be chunked. It often uses regular expressions, or regexes.\n",
    "\n",
    "For this tutorial, you don’t need to know how regular expressions work, but they will definitely come in handy for you in the future if you want to process text.\n"
   ]
  },
  {
   "cell_type": "markdown",
   "id": "bfc5ce96",
   "metadata": {},
   "source": [
    "Create a chunk grammar with one regular expression rule:"
   ]
  },
  {
   "cell_type": "code",
   "execution_count": 41,
   "id": "1b85fcf5",
   "metadata": {
    "execution": {
     "iopub.execute_input": "2022-05-10T20:24:53.177643Z",
     "iopub.status.busy": "2022-05-10T20:24:53.176928Z",
     "iopub.status.idle": "2022-05-10T20:24:53.180548Z",
     "shell.execute_reply": "2022-05-10T20:24:53.179929Z",
     "shell.execute_reply.started": "2022-05-10T20:24:53.177602Z"
    }
   },
   "outputs": [],
   "source": [
    "grammar = \"NP: {<DT>?<JJ>*<NN>}\""
   ]
  },
  {
   "cell_type": "markdown",
   "id": "3b90af9d",
   "metadata": {},
   "source": [
    "NP stands for noun phrase. You can learn more about noun phrase chunking in Chapter 7 of Natural Language Processing with Python—Analyzing Text with the Natural Language Toolkit.\n",
    "\n",
    "According to the rule you created, your chunks:\n",
    "\n",
    "   1. Start with an optional (?) determiner ('DT')\n",
    "   2. Can have any number (*) of adjectives (JJ)\n",
    "   3. End with a noun (<NN>)\n",
    "\n",
    "Create a chunk parser with this grammar:"
   ]
  },
  {
   "cell_type": "code",
   "execution_count": 42,
   "id": "a1b1376e",
   "metadata": {
    "execution": {
     "iopub.execute_input": "2022-05-10T20:25:34.492891Z",
     "iopub.status.busy": "2022-05-10T20:25:34.492230Z",
     "iopub.status.idle": "2022-05-10T20:25:34.496849Z",
     "shell.execute_reply": "2022-05-10T20:25:34.496230Z",
     "shell.execute_reply.started": "2022-05-10T20:25:34.492861Z"
    }
   },
   "outputs": [],
   "source": [
    "chunk_parser = nltk.RegexpParser(grammar)"
   ]
  },
  {
   "cell_type": "markdown",
   "id": "8de8652c",
   "metadata": {},
   "source": [
    "Now try it out with your quote:"
   ]
  },
  {
   "cell_type": "code",
   "execution_count": 43,
   "id": "9a61294a",
   "metadata": {
    "execution": {
     "iopub.execute_input": "2022-05-10T20:25:57.169231Z",
     "iopub.status.busy": "2022-05-10T20:25:57.168892Z",
     "iopub.status.idle": "2022-05-10T20:25:57.173011Z",
     "shell.execute_reply": "2022-05-10T20:25:57.172416Z",
     "shell.execute_reply.started": "2022-05-10T20:25:57.169182Z"
    }
   },
   "outputs": [],
   "source": [
    "tree = chunk_parser.parse(lotr_pos_tags)"
   ]
  },
  {
   "cell_type": "markdown",
   "id": "59c5c173",
   "metadata": {},
   "source": [
    "Here’s how you can see a visual representation of this tree:"
   ]
  },
  {
   "cell_type": "code",
   "execution_count": 44,
   "id": "0d5d9a4c",
   "metadata": {
    "execution": {
     "iopub.execute_input": "2022-05-10T20:26:15.262921Z",
     "iopub.status.busy": "2022-05-10T20:26:15.262558Z",
     "iopub.status.idle": "2022-05-10T20:26:16.241529Z",
     "shell.execute_reply": "2022-05-10T20:26:16.240740Z",
     "shell.execute_reply.started": "2022-05-10T20:26:15.262880Z"
    }
   },
   "outputs": [
    {
     "name": "stderr",
     "output_type": "stream",
     "text": [
      "/opt/app-root/lib64/python3.8/site-packages/nltk/draw/__init__.py:15: UserWarning: nltk.draw package not loaded (please install Tkinter library).\n",
      "  warnings.warn(\"nltk.draw package not loaded (please install Tkinter library).\")\n"
     ]
    },
    {
     "ename": "ModuleNotFoundError",
     "evalue": "No module named 'tkinter'",
     "output_type": "error",
     "traceback": [
      "\u001b[0;31m---------------------------------------------------------------------------\u001b[0m",
      "\u001b[0;31mModuleNotFoundError\u001b[0m                       Traceback (most recent call last)",
      "Input \u001b[0;32mIn [44]\u001b[0m, in \u001b[0;36m<cell line: 1>\u001b[0;34m()\u001b[0m\n\u001b[0;32m----> 1\u001b[0m \u001b[43mtree\u001b[49m\u001b[38;5;241;43m.\u001b[39;49m\u001b[43mdraw\u001b[49m\u001b[43m(\u001b[49m\u001b[43m)\u001b[49m\n",
      "File \u001b[0;32m/opt/app-root/lib64/python3.8/site-packages/nltk/tree/tree.py:760\u001b[0m, in \u001b[0;36mTree.draw\u001b[0;34m(self)\u001b[0m\n\u001b[1;32m    756\u001b[0m \u001b[38;5;28;01mdef\u001b[39;00m \u001b[38;5;21mdraw\u001b[39m(\u001b[38;5;28mself\u001b[39m):\n\u001b[1;32m    757\u001b[0m     \u001b[38;5;124;03m\"\"\"\u001b[39;00m\n\u001b[1;32m    758\u001b[0m \u001b[38;5;124;03m    Open a new window containing a graphical diagram of this tree.\u001b[39;00m\n\u001b[1;32m    759\u001b[0m \u001b[38;5;124;03m    \"\"\"\u001b[39;00m\n\u001b[0;32m--> 760\u001b[0m     \u001b[38;5;28;01mfrom\u001b[39;00m \u001b[38;5;21;01mnltk\u001b[39;00m\u001b[38;5;21;01m.\u001b[39;00m\u001b[38;5;21;01mdraw\u001b[39;00m\u001b[38;5;21;01m.\u001b[39;00m\u001b[38;5;21;01mtree\u001b[39;00m \u001b[38;5;28;01mimport\u001b[39;00m draw_trees\n\u001b[1;32m    762\u001b[0m     draw_trees(\u001b[38;5;28mself\u001b[39m)\n",
      "File \u001b[0;32m/opt/app-root/lib64/python3.8/site-packages/nltk/draw/tree.py:12\u001b[0m, in \u001b[0;36m<module>\u001b[0;34m\u001b[0m\n\u001b[1;32m      1\u001b[0m \u001b[38;5;66;03m# Natural Language Toolkit: Graphical Representations for Trees\u001b[39;00m\n\u001b[1;32m      2\u001b[0m \u001b[38;5;66;03m#\u001b[39;00m\n\u001b[1;32m      3\u001b[0m \u001b[38;5;66;03m# Copyright (C) 2001-2022 NLTK Project\u001b[39;00m\n\u001b[1;32m      4\u001b[0m \u001b[38;5;66;03m# Author: Edward Loper <edloper@gmail.com>\u001b[39;00m\n\u001b[1;32m      5\u001b[0m \u001b[38;5;66;03m# URL: <https://www.nltk.org/>\u001b[39;00m\n\u001b[1;32m      6\u001b[0m \u001b[38;5;66;03m# For license information, see LICENSE.TXT\u001b[39;00m\n\u001b[1;32m      8\u001b[0m \u001b[38;5;124;03m\"\"\"\u001b[39;00m\n\u001b[1;32m      9\u001b[0m \u001b[38;5;124;03mGraphically display a Tree.\u001b[39;00m\n\u001b[1;32m     10\u001b[0m \u001b[38;5;124;03m\"\"\"\u001b[39;00m\n\u001b[0;32m---> 12\u001b[0m \u001b[38;5;28;01mfrom\u001b[39;00m \u001b[38;5;21;01mtkinter\u001b[39;00m \u001b[38;5;28;01mimport\u001b[39;00m IntVar, Menu, Tk\n\u001b[1;32m     14\u001b[0m \u001b[38;5;28;01mfrom\u001b[39;00m \u001b[38;5;21;01mnltk\u001b[39;00m\u001b[38;5;21;01m.\u001b[39;00m\u001b[38;5;21;01mdraw\u001b[39;00m\u001b[38;5;21;01m.\u001b[39;00m\u001b[38;5;21;01mutil\u001b[39;00m \u001b[38;5;28;01mimport\u001b[39;00m (\n\u001b[1;32m     15\u001b[0m     BoxWidget,\n\u001b[1;32m     16\u001b[0m     CanvasFrame,\n\u001b[0;32m   (...)\u001b[0m\n\u001b[1;32m     20\u001b[0m     TextWidget,\n\u001b[1;32m     21\u001b[0m )\n\u001b[1;32m     22\u001b[0m \u001b[38;5;28;01mfrom\u001b[39;00m \u001b[38;5;21;01mnltk\u001b[39;00m\u001b[38;5;21;01m.\u001b[39;00m\u001b[38;5;21;01mtree\u001b[39;00m \u001b[38;5;28;01mimport\u001b[39;00m Tree\n",
      "\u001b[0;31mModuleNotFoundError\u001b[0m: No module named 'tkinter'"
     ]
    }
   ],
   "source": [
    "tree.draw()"
   ]
  },
  {
   "cell_type": "code",
   "execution_count": 46,
   "id": "49459dd1",
   "metadata": {
    "execution": {
     "iopub.execute_input": "2022-05-10T20:27:10.233542Z",
     "iopub.status.busy": "2022-05-10T20:27:10.233153Z",
     "iopub.status.idle": "2022-05-10T20:27:10.434149Z",
     "shell.execute_reply": "2022-05-10T20:27:10.433384Z",
     "shell.execute_reply.started": "2022-05-10T20:27:10.233515Z"
    }
   },
   "outputs": [
    {
     "ename": "ModuleNotFoundError",
     "evalue": "No module named 'tkinter'",
     "output_type": "error",
     "traceback": [
      "\u001b[0;31m---------------------------------------------------------------------------\u001b[0m",
      "\u001b[0;31mModuleNotFoundError\u001b[0m                       Traceback (most recent call last)",
      "Input \u001b[0;32mIn [46]\u001b[0m, in \u001b[0;36m<cell line: 1>\u001b[0;34m()\u001b[0m\n\u001b[0;32m----> 1\u001b[0m \u001b[43mtree\u001b[49m\u001b[38;5;241;43m.\u001b[39;49m\u001b[43mdraw\u001b[49m\u001b[43m(\u001b[49m\u001b[43m)\u001b[49m\n",
      "File \u001b[0;32m/opt/app-root/lib64/python3.8/site-packages/nltk/tree/tree.py:760\u001b[0m, in \u001b[0;36mTree.draw\u001b[0;34m(self)\u001b[0m\n\u001b[1;32m    756\u001b[0m \u001b[38;5;28;01mdef\u001b[39;00m \u001b[38;5;21mdraw\u001b[39m(\u001b[38;5;28mself\u001b[39m):\n\u001b[1;32m    757\u001b[0m     \u001b[38;5;124;03m\"\"\"\u001b[39;00m\n\u001b[1;32m    758\u001b[0m \u001b[38;5;124;03m    Open a new window containing a graphical diagram of this tree.\u001b[39;00m\n\u001b[1;32m    759\u001b[0m \u001b[38;5;124;03m    \"\"\"\u001b[39;00m\n\u001b[0;32m--> 760\u001b[0m     \u001b[38;5;28;01mfrom\u001b[39;00m \u001b[38;5;21;01mnltk\u001b[39;00m\u001b[38;5;21;01m.\u001b[39;00m\u001b[38;5;21;01mdraw\u001b[39;00m\u001b[38;5;21;01m.\u001b[39;00m\u001b[38;5;21;01mtree\u001b[39;00m \u001b[38;5;28;01mimport\u001b[39;00m draw_trees\n\u001b[1;32m    762\u001b[0m     draw_trees(\u001b[38;5;28mself\u001b[39m)\n",
      "File \u001b[0;32m/opt/app-root/lib64/python3.8/site-packages/nltk/draw/tree.py:12\u001b[0m, in \u001b[0;36m<module>\u001b[0;34m\u001b[0m\n\u001b[1;32m      1\u001b[0m \u001b[38;5;66;03m# Natural Language Toolkit: Graphical Representations for Trees\u001b[39;00m\n\u001b[1;32m      2\u001b[0m \u001b[38;5;66;03m#\u001b[39;00m\n\u001b[1;32m      3\u001b[0m \u001b[38;5;66;03m# Copyright (C) 2001-2022 NLTK Project\u001b[39;00m\n\u001b[1;32m      4\u001b[0m \u001b[38;5;66;03m# Author: Edward Loper <edloper@gmail.com>\u001b[39;00m\n\u001b[1;32m      5\u001b[0m \u001b[38;5;66;03m# URL: <https://www.nltk.org/>\u001b[39;00m\n\u001b[1;32m      6\u001b[0m \u001b[38;5;66;03m# For license information, see LICENSE.TXT\u001b[39;00m\n\u001b[1;32m      8\u001b[0m \u001b[38;5;124;03m\"\"\"\u001b[39;00m\n\u001b[1;32m      9\u001b[0m \u001b[38;5;124;03mGraphically display a Tree.\u001b[39;00m\n\u001b[1;32m     10\u001b[0m \u001b[38;5;124;03m\"\"\"\u001b[39;00m\n\u001b[0;32m---> 12\u001b[0m \u001b[38;5;28;01mfrom\u001b[39;00m \u001b[38;5;21;01mtkinter\u001b[39;00m \u001b[38;5;28;01mimport\u001b[39;00m IntVar, Menu, Tk\n\u001b[1;32m     14\u001b[0m \u001b[38;5;28;01mfrom\u001b[39;00m \u001b[38;5;21;01mnltk\u001b[39;00m\u001b[38;5;21;01m.\u001b[39;00m\u001b[38;5;21;01mdraw\u001b[39;00m\u001b[38;5;21;01m.\u001b[39;00m\u001b[38;5;21;01mutil\u001b[39;00m \u001b[38;5;28;01mimport\u001b[39;00m (\n\u001b[1;32m     15\u001b[0m     BoxWidget,\n\u001b[1;32m     16\u001b[0m     CanvasFrame,\n\u001b[0;32m   (...)\u001b[0m\n\u001b[1;32m     20\u001b[0m     TextWidget,\n\u001b[1;32m     21\u001b[0m )\n\u001b[1;32m     22\u001b[0m \u001b[38;5;28;01mfrom\u001b[39;00m \u001b[38;5;21;01mnltk\u001b[39;00m\u001b[38;5;21;01m.\u001b[39;00m\u001b[38;5;21;01mtree\u001b[39;00m \u001b[38;5;28;01mimport\u001b[39;00m Tree\n",
      "\u001b[0;31mModuleNotFoundError\u001b[0m: No module named 'tkinter'"
     ]
    }
   ],
   "source": [
    "tree.draw()"
   ]
  },
  {
   "cell_type": "code",
   "execution_count": 50,
   "id": "f8b0fa62",
   "metadata": {
    "execution": {
     "iopub.execute_input": "2022-05-10T20:28:21.206994Z",
     "iopub.status.busy": "2022-05-10T20:28:21.206635Z",
     "iopub.status.idle": "2022-05-10T20:28:24.694804Z",
     "shell.execute_reply": "2022-05-10T20:28:24.694088Z",
     "shell.execute_reply.started": "2022-05-10T20:28:21.206968Z"
    }
   },
   "outputs": [
    {
     "name": "stdout",
     "output_type": "stream",
     "text": [
      "Collecting install\n",
      "  Downloading install-1.3.5-py3-none-any.whl (3.2 kB)\n",
      "\u001b[31mERROR: Could not find a version that satisfies the requirement python3-tk (from versions: none)\u001b[0m\u001b[31m\n",
      "\u001b[0m\u001b[31mERROR: No matching distribution found for python3-tk\u001b[0m\u001b[31m\n",
      "\u001b[0m"
     ]
    }
   ],
   "source": [
    "!pip install install python3-tk"
   ]
  },
  {
   "cell_type": "code",
   "execution_count": null,
   "id": "6c7f24b8",
   "metadata": {},
   "outputs": [],
   "source": []
  }
 ],
 "metadata": {
  "kernelspec": {
   "display_name": "Python 3 (ipykernel)",
   "language": "python",
   "name": "python3"
  },
  "language_info": {
   "codemirror_mode": {
    "name": "ipython",
    "version": 3
   },
   "file_extension": ".py",
   "mimetype": "text/x-python",
   "name": "python",
   "nbconvert_exporter": "python",
   "pygments_lexer": "ipython3",
   "version": "3.8.11"
  }
 },
 "nbformat": 4,
 "nbformat_minor": 5
}
